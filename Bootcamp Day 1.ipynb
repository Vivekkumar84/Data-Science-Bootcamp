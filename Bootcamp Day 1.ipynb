{
 "cells": [
  {
   "cell_type": "markdown",
   "id": "ebccff57",
   "metadata": {},
   "source": [
    "# Python Basic 1"
   ]
  },
  {
   "cell_type": "code",
   "execution_count": 1,
   "id": "8fa21591",
   "metadata": {},
   "outputs": [],
   "source": [
    "a = 10"
   ]
  },
  {
   "cell_type": "code",
   "execution_count": 2,
   "id": "05f638d9",
   "metadata": {},
   "outputs": [
    {
     "data": {
      "text/plain": [
       "10"
      ]
     },
     "execution_count": 2,
     "metadata": {},
     "output_type": "execute_result"
    }
   ],
   "source": [
    "a"
   ]
  },
  {
   "cell_type": "code",
   "execution_count": 3,
   "id": "336d2f58",
   "metadata": {},
   "outputs": [
    {
     "data": {
      "text/plain": [
       "30"
      ]
     },
     "execution_count": 3,
     "metadata": {},
     "output_type": "execute_result"
    }
   ],
   "source": [
    "a+20"
   ]
  },
  {
   "cell_type": "code",
   "execution_count": 4,
   "id": "7a99fde2",
   "metadata": {},
   "outputs": [
    {
     "data": {
      "text/plain": [
       "int"
      ]
     },
     "execution_count": 4,
     "metadata": {},
     "output_type": "execute_result"
    }
   ],
   "source": [
    "type(a)"
   ]
  },
  {
   "cell_type": "code",
   "execution_count": 5,
   "id": "78b5c7f7",
   "metadata": {},
   "outputs": [],
   "source": [
    "s =\"audh\""
   ]
  },
  {
   "cell_type": "code",
   "execution_count": 6,
   "id": "5909d853",
   "metadata": {},
   "outputs": [
    {
     "data": {
      "text/plain": [
       "str"
      ]
     },
     "execution_count": 6,
     "metadata": {},
     "output_type": "execute_result"
    }
   ],
   "source": [
    "type(s)"
   ]
  },
  {
   "cell_type": "code",
   "execution_count": 7,
   "id": "8b8dde6a",
   "metadata": {},
   "outputs": [],
   "source": [
    "b=6.5"
   ]
  },
  {
   "cell_type": "code",
   "execution_count": 8,
   "id": "0fcb89c2",
   "metadata": {},
   "outputs": [
    {
     "data": {
      "text/plain": [
       "float"
      ]
     },
     "execution_count": 8,
     "metadata": {},
     "output_type": "execute_result"
    }
   ],
   "source": [
    "type(b)"
   ]
  },
  {
   "cell_type": "code",
   "execution_count": 9,
   "id": "6462c7b7",
   "metadata": {},
   "outputs": [],
   "source": [
    "s1 = \"saudhfdsdf\""
   ]
  },
  {
   "cell_type": "code",
   "execution_count": 10,
   "id": "d6ea6f80",
   "metadata": {},
   "outputs": [
    {
     "data": {
      "text/plain": [
       "str"
      ]
     },
     "execution_count": 10,
     "metadata": {},
     "output_type": "execute_result"
    }
   ],
   "source": [
    "type(s1)"
   ]
  },
  {
   "cell_type": "code",
   "execution_count": 11,
   "id": "a03ffcc3",
   "metadata": {},
   "outputs": [],
   "source": [
    "s = \"sfyj\""
   ]
  },
  {
   "cell_type": "code",
   "execution_count": 12,
   "id": "57e86cde",
   "metadata": {},
   "outputs": [],
   "source": [
    "S = \"stj\""
   ]
  },
  {
   "cell_type": "code",
   "execution_count": 13,
   "id": "b7e8d20f",
   "metadata": {},
   "outputs": [
    {
     "data": {
      "text/plain": [
       "'sfyj'"
      ]
     },
     "execution_count": 13,
     "metadata": {},
     "output_type": "execute_result"
    }
   ],
   "source": [
    "s"
   ]
  },
  {
   "cell_type": "code",
   "execution_count": 14,
   "id": "8993b6ac",
   "metadata": {},
   "outputs": [
    {
     "data": {
      "text/plain": [
       "'stj'"
      ]
     },
     "execution_count": 14,
     "metadata": {},
     "output_type": "execute_result"
    }
   ],
   "source": [
    "S"
   ]
  },
  {
   "cell_type": "code",
   "execution_count": 15,
   "id": "beabd502",
   "metadata": {},
   "outputs": [],
   "source": [
    "int = 1"
   ]
  },
  {
   "cell_type": "code",
   "execution_count": 16,
   "id": "655d5f0c",
   "metadata": {},
   "outputs": [
    {
     "data": {
      "text/plain": [
       "1"
      ]
     },
     "execution_count": 16,
     "metadata": {},
     "output_type": "execute_result"
    }
   ],
   "source": [
    "int"
   ]
  },
  {
   "cell_type": "code",
   "execution_count": 17,
   "id": "ee526dd6",
   "metadata": {},
   "outputs": [
    {
     "ename": "SyntaxError",
     "evalue": "invalid syntax (3966549216.py, line 1)",
     "output_type": "error",
     "traceback": [
      "\u001b[1;36m  Input \u001b[1;32mIn [17]\u001b[1;36m\u001b[0m\n\u001b[1;33m    s % =  \"fdddfs\"\u001b[0m\n\u001b[1;37m        ^\u001b[0m\n\u001b[1;31mSyntaxError\u001b[0m\u001b[1;31m:\u001b[0m invalid syntax\n"
     ]
    }
   ],
   "source": [
    "s % =  \"fdddfs\" "
   ]
  },
  {
   "cell_type": "code",
   "execution_count": 18,
   "id": "e1bbb657",
   "metadata": {},
   "outputs": [
    {
     "data": {
      "text/plain": [
       "str"
      ]
     },
     "execution_count": 18,
     "metadata": {},
     "output_type": "execute_result"
    }
   ],
   "source": [
    "type (s)"
   ]
  },
  {
   "cell_type": "code",
   "execution_count": 19,
   "id": "66867172",
   "metadata": {},
   "outputs": [
    {
     "name": "stdout",
     "output_type": "stream",
     "text": [
      "sfyj\n"
     ]
    }
   ],
   "source": [
    "print(s)"
   ]
  },
  {
   "cell_type": "code",
   "execution_count": 20,
   "id": "b912f63b",
   "metadata": {},
   "outputs": [],
   "source": [
    "b = True"
   ]
  },
  {
   "cell_type": "code",
   "execution_count": 21,
   "id": "4c25b0e6",
   "metadata": {},
   "outputs": [
    {
     "data": {
      "text/plain": [
       "True"
      ]
     },
     "execution_count": 21,
     "metadata": {},
     "output_type": "execute_result"
    }
   ],
   "source": [
    "b"
   ]
  },
  {
   "cell_type": "code",
   "execution_count": 22,
   "id": "206a3cb0",
   "metadata": {},
   "outputs": [],
   "source": [
    "b1 = False"
   ]
  },
  {
   "cell_type": "code",
   "execution_count": 23,
   "id": "e7e625e7",
   "metadata": {},
   "outputs": [
    {
     "data": {
      "text/plain": [
       "1"
      ]
     },
     "execution_count": 23,
     "metadata": {},
     "output_type": "execute_result"
    }
   ],
   "source": [
    "True + False"
   ]
  },
  {
   "cell_type": "code",
   "execution_count": 24,
   "id": "3b76fa0b",
   "metadata": {},
   "outputs": [
    {
     "data": {
      "text/plain": [
       "0"
      ]
     },
     "execution_count": 24,
     "metadata": {},
     "output_type": "execute_result"
    }
   ],
   "source": [
    "False - False"
   ]
  },
  {
   "cell_type": "code",
   "execution_count": 25,
   "id": "f9a56a82",
   "metadata": {},
   "outputs": [
    {
     "data": {
      "text/plain": [
       "1"
      ]
     },
     "execution_count": 25,
     "metadata": {},
     "output_type": "execute_result"
    }
   ],
   "source": [
    "True * True"
   ]
  },
  {
   "cell_type": "code",
   "execution_count": 26,
   "id": "dd6cf527",
   "metadata": {},
   "outputs": [],
   "source": [
    "c = 7+6j"
   ]
  },
  {
   "cell_type": "code",
   "execution_count": 27,
   "id": "a9cf5f67",
   "metadata": {},
   "outputs": [
    {
     "data": {
      "text/plain": [
       "complex"
      ]
     },
     "execution_count": 27,
     "metadata": {},
     "output_type": "execute_result"
    }
   ],
   "source": [
    "type(c)"
   ]
  },
  {
   "cell_type": "code",
   "execution_count": 28,
   "id": "6634ffd6",
   "metadata": {},
   "outputs": [
    {
     "data": {
      "text/plain": [
       "7.0"
      ]
     },
     "execution_count": 28,
     "metadata": {},
     "output_type": "execute_result"
    }
   ],
   "source": [
    "c.real"
   ]
  },
  {
   "cell_type": "code",
   "execution_count": 29,
   "id": "0a7aab63",
   "metadata": {},
   "outputs": [
    {
     "data": {
      "text/plain": [
       "6.0"
      ]
     },
     "execution_count": 29,
     "metadata": {},
     "output_type": "execute_result"
    }
   ],
   "source": [
    "c.imag"
   ]
  },
  {
   "cell_type": "code",
   "execution_count": 30,
   "id": "539d7948",
   "metadata": {},
   "outputs": [],
   "source": [
    "s = \"audh\""
   ]
  },
  {
   "cell_type": "code",
   "execution_count": 31,
   "id": "48773d07",
   "metadata": {},
   "outputs": [
    {
     "data": {
      "text/plain": [
       "'audh'"
      ]
     },
     "execution_count": 31,
     "metadata": {},
     "output_type": "execute_result"
    }
   ],
   "source": [
    "s"
   ]
  },
  {
   "cell_type": "code",
   "execution_count": 32,
   "id": "66300559",
   "metadata": {},
   "outputs": [
    {
     "ename": "TypeError",
     "evalue": "can only concatenate str (not \"int\") to str",
     "output_type": "error",
     "traceback": [
      "\u001b[1;31m---------------------------------------------------------------------------\u001b[0m",
      "\u001b[1;31mTypeError\u001b[0m                                 Traceback (most recent call last)",
      "Input \u001b[1;32mIn [32]\u001b[0m, in \u001b[0;36m<cell line: 1>\u001b[1;34m()\u001b[0m\n\u001b[1;32m----> 1\u001b[0m \u001b[43ms\u001b[49m\u001b[43m \u001b[49m\u001b[38;5;241;43m+\u001b[39;49m\u001b[43m \u001b[49m\u001b[38;5;241;43m3\u001b[39;49m\n",
      "\u001b[1;31mTypeError\u001b[0m: can only concatenate str (not \"int\") to str"
     ]
    }
   ],
   "source": [
    "s + 3"
   ]
  },
  {
   "cell_type": "code",
   "execution_count": null,
   "id": "067f836a",
   "metadata": {},
   "outputs": [],
   "source": [
    "s + \"3\""
   ]
  },
  {
   "cell_type": "code",
   "execution_count": null,
   "id": "4984fbf4",
   "metadata": {},
   "outputs": [],
   "source": [
    "s + str(3)"
   ]
  },
  {
   "cell_type": "code",
   "execution_count": null,
   "id": "2429e2e7",
   "metadata": {},
   "outputs": [],
   "source": [
    "student =\"neuron\""
   ]
  },
  {
   "cell_type": "code",
   "execution_count": null,
   "id": "2e3c5d9b",
   "metadata": {},
   "outputs": [],
   "source": [
    "student"
   ]
  },
  {
   "cell_type": "markdown",
   "id": "3ba2bb59",
   "metadata": {},
   "source": [
    "# String Basic 2 : Indexing"
   ]
  },
  {
   "cell_type": "code",
   "execution_count": null,
   "id": "15a6d663",
   "metadata": {},
   "outputs": [],
   "source": [
    "s = \"neuron\""
   ]
  },
  {
   "cell_type": "code",
   "execution_count": null,
   "id": "f689873f",
   "metadata": {},
   "outputs": [],
   "source": [
    "s[0]"
   ]
  },
  {
   "cell_type": "code",
   "execution_count": null,
   "id": "5b6dfb22",
   "metadata": {},
   "outputs": [],
   "source": [
    "s[5]"
   ]
  },
  {
   "cell_type": "code",
   "execution_count": null,
   "id": "fe1752a9",
   "metadata": {},
   "outputs": [],
   "source": [
    "s[-1]"
   ]
  },
  {
   "cell_type": "code",
   "execution_count": null,
   "id": "ffc7afd4",
   "metadata": {},
   "outputs": [],
   "source": [
    "s1 = \"audh\""
   ]
  },
  {
   "cell_type": "code",
   "execution_count": null,
   "id": "a49f357a",
   "metadata": {},
   "outputs": [],
   "source": [
    "s1[0]"
   ]
  },
  {
   "cell_type": "code",
   "execution_count": null,
   "id": "f7de470c",
   "metadata": {},
   "outputs": [],
   "source": [
    "s1[-1]"
   ]
  },
  {
   "cell_type": "code",
   "execution_count": null,
   "id": "fda5ec1f",
   "metadata": {},
   "outputs": [],
   "source": [
    "s1[-2]"
   ]
  },
  {
   "cell_type": "code",
   "execution_count": null,
   "id": "712a3af2",
   "metadata": {},
   "outputs": [],
   "source": [
    "s2 = \"this is my very first programming class's\""
   ]
  },
  {
   "cell_type": "code",
   "execution_count": null,
   "id": "74a98739",
   "metadata": {},
   "outputs": [],
   "source": [
    "s2"
   ]
  },
  {
   "cell_type": "code",
   "execution_count": null,
   "id": "e992d79e",
   "metadata": {},
   "outputs": [],
   "source": [
    "s2[8]"
   ]
  },
  {
   "cell_type": "code",
   "execution_count": null,
   "id": "5bf05e49",
   "metadata": {},
   "outputs": [],
   "source": [
    "s2[20:23]"
   ]
  },
  {
   "cell_type": "code",
   "execution_count": null,
   "id": "a3b44d05",
   "metadata": {},
   "outputs": [],
   "source": [
    "s2[1:5]"
   ]
  },
  {
   "cell_type": "code",
   "execution_count": null,
   "id": "84fa0f55",
   "metadata": {},
   "outputs": [],
   "source": [
    "s2[6:30:2]"
   ]
  },
  {
   "cell_type": "code",
   "execution_count": null,
   "id": "26e9bc90",
   "metadata": {},
   "outputs": [],
   "source": [
    "s = \"python\""
   ]
  },
  {
   "cell_type": "code",
   "execution_count": null,
   "id": "6469605b",
   "metadata": {},
   "outputs": [],
   "source": [
    "s[0:9:1]"
   ]
  },
  {
   "cell_type": "code",
   "execution_count": null,
   "id": "08566dce",
   "metadata": {},
   "outputs": [],
   "source": [
    "s[0:8:-1]"
   ]
  },
  {
   "cell_type": "code",
   "execution_count": null,
   "id": "d95c377c",
   "metadata": {},
   "outputs": [],
   "source": [
    "s[8:0:-1]"
   ]
  },
  {
   "cell_type": "code",
   "execution_count": null,
   "id": "f8e630c2",
   "metadata": {},
   "outputs": [],
   "source": [
    "s[8:0:-2]"
   ]
  },
  {
   "cell_type": "code",
   "execution_count": null,
   "id": "3d1a3ee9",
   "metadata": {},
   "outputs": [],
   "source": [
    "s"
   ]
  },
  {
   "cell_type": "code",
   "execution_count": null,
   "id": "15912f94",
   "metadata": {},
   "outputs": [],
   "source": [
    "s[:-3]"
   ]
  },
  {
   "cell_type": "code",
   "execution_count": null,
   "id": "bf390f75",
   "metadata": {},
   "outputs": [],
   "source": [
    "s[-2:]"
   ]
  },
  {
   "cell_type": "code",
   "execution_count": null,
   "id": "559b8d12",
   "metadata": {},
   "outputs": [],
   "source": [
    "s[::1]"
   ]
  },
  {
   "cell_type": "code",
   "execution_count": null,
   "id": "65fa3f54",
   "metadata": {},
   "outputs": [],
   "source": [
    "s[0:50:1]"
   ]
  },
  {
   "cell_type": "code",
   "execution_count": null,
   "id": "a68629c4",
   "metadata": {},
   "outputs": [],
   "source": [
    "s[0:50:-1]"
   ]
  },
  {
   "cell_type": "code",
   "execution_count": 33,
   "id": "f357a234",
   "metadata": {},
   "outputs": [
    {
     "ename": "NameError",
     "evalue": "name 's2' is not defined",
     "output_type": "error",
     "traceback": [
      "\u001b[1;31m---------------------------------------------------------------------------\u001b[0m",
      "\u001b[1;31mNameError\u001b[0m                                 Traceback (most recent call last)",
      "Input \u001b[1;32mIn [33]\u001b[0m, in \u001b[0;36m<cell line: 1>\u001b[1;34m()\u001b[0m\n\u001b[1;32m----> 1\u001b[0m \u001b[43ms2\u001b[49m\n",
      "\u001b[1;31mNameError\u001b[0m: name 's2' is not defined"
     ]
    }
   ],
   "source": [
    "s2"
   ]
  },
  {
   "cell_type": "code",
   "execution_count": null,
   "id": "ab38001b",
   "metadata": {},
   "outputs": [],
   "source": [
    "s[8:0:-1] = 'onthpy' how "
   ]
  },
  {
   "cell_type": "code",
   "execution_count": null,
   "id": "2793f80f",
   "metadata": {},
   "outputs": [],
   "source": [
    "s3 = \"nueron\""
   ]
  },
  {
   "cell_type": "code",
   "execution_count": 34,
   "id": "66f0f18a",
   "metadata": {},
   "outputs": [
    {
     "ename": "NameError",
     "evalue": "name 's3' is not defined",
     "output_type": "error",
     "traceback": [
      "\u001b[1;31m---------------------------------------------------------------------------\u001b[0m",
      "\u001b[1;31mNameError\u001b[0m                                 Traceback (most recent call last)",
      "Input \u001b[1;32mIn [34]\u001b[0m, in \u001b[0;36m<cell line: 1>\u001b[1;34m()\u001b[0m\n\u001b[1;32m----> 1\u001b[0m \u001b[43ms3\u001b[49m[\u001b[38;5;241m-\u001b[39m\u001b[38;5;241m2\u001b[39m:\u001b[38;5;241m-\u001b[39m\u001b[38;5;241m7\u001b[39m:\u001b[38;5;241m1\u001b[39m]\n",
      "\u001b[1;31mNameError\u001b[0m: name 's3' is not defined"
     ]
    }
   ],
   "source": [
    "s3[-2:-7:1]"
   ]
  },
  {
   "cell_type": "code",
   "execution_count": null,
   "id": "8f62e768",
   "metadata": {},
   "outputs": [],
   "source": [
    "s3[-7:-2:1]"
   ]
  },
  {
   "cell_type": "code",
   "execution_count": 35,
   "id": "a448b0c3",
   "metadata": {},
   "outputs": [
    {
     "data": {
      "text/plain": [
       "''"
      ]
     },
     "execution_count": 35,
     "metadata": {},
     "output_type": "execute_result"
    }
   ],
   "source": [
    "s[-1:-1]"
   ]
  },
  {
   "cell_type": "code",
   "execution_count": 36,
   "id": "4fe85a41",
   "metadata": {},
   "outputs": [
    {
     "data": {
      "text/plain": [
       "'audhaudhaudhaudh'"
      ]
     },
     "execution_count": 36,
     "metadata": {},
     "output_type": "execute_result"
    }
   ],
   "source": [
    "s*4"
   ]
  },
  {
   "cell_type": "code",
   "execution_count": 37,
   "id": "e158685f",
   "metadata": {},
   "outputs": [
    {
     "data": {
      "text/plain": [
       "'audh'"
      ]
     },
     "execution_count": 37,
     "metadata": {},
     "output_type": "execute_result"
    }
   ],
   "source": [
    "s"
   ]
  },
  {
   "cell_type": "code",
   "execution_count": 38,
   "id": "a2932d43",
   "metadata": {},
   "outputs": [
    {
     "data": {
      "text/plain": [
       "0"
      ]
     },
     "execution_count": 38,
     "metadata": {},
     "output_type": "execute_result"
    }
   ],
   "source": [
    "s.count('sum')"
   ]
  },
  {
   "cell_type": "code",
   "execution_count": 39,
   "id": "ce858fd4",
   "metadata": {},
   "outputs": [],
   "source": [
    "s1 = \"pyt hon\""
   ]
  },
  {
   "cell_type": "code",
   "execution_count": 40,
   "id": "942047b7",
   "metadata": {},
   "outputs": [
    {
     "data": {
      "text/plain": [
       "['pyt hon']"
      ]
     },
     "execution_count": 40,
     "metadata": {},
     "output_type": "execute_result"
    }
   ],
   "source": [
    "s1.split('u')"
   ]
  },
  {
   "cell_type": "code",
   "execution_count": 41,
   "id": "b4cccf8c",
   "metadata": {},
   "outputs": [
    {
     "data": {
      "text/plain": [
       "list"
      ]
     },
     "execution_count": 41,
     "metadata": {},
     "output_type": "execute_result"
    }
   ],
   "source": [
    "type(s1.split('u'))"
   ]
  },
  {
   "cell_type": "code",
   "execution_count": 42,
   "id": "57cebdd5",
   "metadata": {},
   "outputs": [],
   "source": [
    "sw = \"\"\"Samsung is a South Korean company that designs, manufactures, and sells a wide range of products, including smartphones, tablets, laptops, and more. The company's name, Samsung, is a Korean hanja word that translates to \"tri-star\" or \"two stars\". The word \"two\" is said to represent something that is \"big, numerous, and powerful\"\"\""
   ]
  },
  {
   "cell_type": "code",
   "execution_count": 43,
   "id": "3708736e",
   "metadata": {},
   "outputs": [
    {
     "data": {
      "text/plain": [
       "['Samsung',\n",
       " 'is',\n",
       " 'a',\n",
       " 'South',\n",
       " 'Korean',\n",
       " 'company',\n",
       " 'that',\n",
       " 'designs,',\n",
       " 'manufactures,',\n",
       " 'and',\n",
       " 'sells',\n",
       " 'a',\n",
       " 'wide',\n",
       " 'range',\n",
       " 'of',\n",
       " 'products,',\n",
       " 'including',\n",
       " 'smartphones,',\n",
       " 'tablets,',\n",
       " 'laptops,',\n",
       " 'and',\n",
       " 'more.',\n",
       " 'The',\n",
       " \"company's\",\n",
       " 'name,',\n",
       " 'Samsung,',\n",
       " 'is',\n",
       " 'a',\n",
       " 'Korean',\n",
       " 'hanja',\n",
       " 'word',\n",
       " 'that',\n",
       " 'translates',\n",
       " 'to',\n",
       " '\"tri-star\"',\n",
       " 'or',\n",
       " '\"two',\n",
       " 'stars\".',\n",
       " 'The',\n",
       " 'word',\n",
       " '\"two\"',\n",
       " 'is',\n",
       " 'said',\n",
       " 'to',\n",
       " 'represent',\n",
       " 'something',\n",
       " 'that',\n",
       " 'is',\n",
       " '\"big,',\n",
       " 'numerous,',\n",
       " 'and',\n",
       " 'powerful']"
      ]
     },
     "execution_count": 43,
     "metadata": {},
     "output_type": "execute_result"
    }
   ],
   "source": [
    "sw.split(' ')"
   ]
  },
  {
   "cell_type": "code",
   "execution_count": 44,
   "id": "d2e23ca9",
   "metadata": {},
   "outputs": [
    {
     "data": {
      "text/plain": [
       "'Samsung is a South Korean company that designs, manufactures, and sells a wide range of products, including smartphones, tablets, laptops, and more. The company\\'s name, Samsung, is a Korean hanja word that translates to \"tri-star\" or \"two stars\". The word \"two\" is said to represent something that is \"big, numerous, and powerful'"
      ]
     },
     "execution_count": 44,
     "metadata": {},
     "output_type": "execute_result"
    }
   ],
   "source": [
    "sw"
   ]
  },
  {
   "cell_type": "code",
   "execution_count": 45,
   "id": "c053d1e9",
   "metadata": {},
   "outputs": [
    {
     "data": {
      "text/plain": [
       "'SAMSUNG IS A SOUTH KOREAN COMPANY THAT DESIGNS, MANUFACTURES, AND SELLS A WIDE RANGE OF PRODUCTS, INCLUDING SMARTPHONES, TABLETS, LAPTOPS, AND MORE. THE COMPANY\\'S NAME, SAMSUNG, IS A KOREAN HANJA WORD THAT TRANSLATES TO \"TRI-STAR\" OR \"TWO STARS\". THE WORD \"TWO\" IS SAID TO REPRESENT SOMETHING THAT IS \"BIG, NUMEROUS, AND POWERFUL'"
      ]
     },
     "execution_count": 45,
     "metadata": {},
     "output_type": "execute_result"
    }
   ],
   "source": [
    "sw.upper()"
   ]
  },
  {
   "cell_type": "code",
   "execution_count": 46,
   "id": "17283c4d",
   "metadata": {},
   "outputs": [
    {
     "data": {
      "text/plain": [
       "'Samsung is a South Korean company that designs, manufactures, and sells a wide range of products, including smartphones, tablets, laptops, and more. The company\\'s name, Samsung, is a Korean hanja word that translates to \"tri-star\" or \"two stars\". The word \"two\" is said to represent something that is \"big, numerous, and powerful'"
      ]
     },
     "execution_count": 46,
     "metadata": {},
     "output_type": "execute_result"
    }
   ],
   "source": [
    "sw"
   ]
  },
  {
   "cell_type": "code",
   "execution_count": 47,
   "id": "4933639e",
   "metadata": {},
   "outputs": [
    {
     "data": {
      "text/plain": [
       "'samsung is a south korean company that designs, manufactures, and sells a wide range of products, including smartphones, tablets, laptops, and more. the company\\'s name, samsung, is a korean hanja word that translates to \"tri-star\" or \"two stars\". the word \"two\" is said to represent something that is \"big, numerous, and powerful'"
      ]
     },
     "execution_count": 47,
     "metadata": {},
     "output_type": "execute_result"
    }
   ],
   "source": [
    "sw.lower()"
   ]
  },
  {
   "cell_type": "code",
   "execution_count": 48,
   "id": "fbeecbd0",
   "metadata": {},
   "outputs": [],
   "source": [
    "s = \"python class\""
   ]
  },
  {
   "cell_type": "code",
   "execution_count": 49,
   "id": "fba4045f",
   "metadata": {},
   "outputs": [
    {
     "data": {
      "text/plain": [
       "'Python Class'"
      ]
     },
     "execution_count": 49,
     "metadata": {},
     "output_type": "execute_result"
    }
   ],
   "source": [
    "s.title()"
   ]
  },
  {
   "cell_type": "code",
   "execution_count": 50,
   "id": "978ba17f",
   "metadata": {},
   "outputs": [
    {
     "data": {
      "text/plain": [
       "'Python class'"
      ]
     },
     "execution_count": 50,
     "metadata": {},
     "output_type": "execute_result"
    }
   ],
   "source": [
    "s.capitalize()"
   ]
  },
  {
   "cell_type": "code",
   "execution_count": 51,
   "id": "bbdd3e80",
   "metadata": {},
   "outputs": [],
   "source": [
    "s = \"PyThon ClaSS\""
   ]
  },
  {
   "cell_type": "code",
   "execution_count": 52,
   "id": "cb903ea2",
   "metadata": {},
   "outputs": [
    {
     "data": {
      "text/plain": [
       "'pYtHON cLAss'"
      ]
     },
     "execution_count": 52,
     "metadata": {},
     "output_type": "execute_result"
    }
   ],
   "source": [
    "s.swapcase()"
   ]
  },
  {
   "cell_type": "code",
   "execution_count": 53,
   "id": "ab6534af",
   "metadata": {},
   "outputs": [
    {
     "data": {
      "text/plain": [
       "'SSalC nohTyP'"
      ]
     },
     "execution_count": 53,
     "metadata": {},
     "output_type": "execute_result"
    }
   ],
   "source": [
    "''.join(reversed(s))"
   ]
  },
  {
   "cell_type": "code",
   "execution_count": 54,
   "id": "c2278421",
   "metadata": {},
   "outputs": [
    {
     "data": {
      "text/plain": [
       "'SSalC nohTyP'"
      ]
     },
     "execution_count": 54,
     "metadata": {},
     "output_type": "execute_result"
    }
   ],
   "source": [
    "s[::-1]"
   ]
  },
  {
   "cell_type": "code",
   "execution_count": 55,
   "id": "9aecf84a",
   "metadata": {},
   "outputs": [],
   "source": [
    "s = \"  py   th   \""
   ]
  },
  {
   "cell_type": "code",
   "execution_count": 56,
   "id": "b14a1feb",
   "metadata": {},
   "outputs": [
    {
     "data": {
      "text/plain": [
       "'py   th'"
      ]
     },
     "execution_count": 56,
     "metadata": {},
     "output_type": "execute_result"
    }
   ],
   "source": [
    "s.strip()"
   ]
  },
  {
   "cell_type": "code",
   "execution_count": 57,
   "id": "2b2b92e9",
   "metadata": {},
   "outputs": [
    {
     "data": {
      "text/plain": [
       "'  py   th   '"
      ]
     },
     "execution_count": 57,
     "metadata": {},
     "output_type": "execute_result"
    }
   ],
   "source": [
    "s"
   ]
  },
  {
   "cell_type": "code",
   "execution_count": 58,
   "id": "0c189612",
   "metadata": {},
   "outputs": [
    {
     "data": {
      "text/plain": [
       "'py   th   '"
      ]
     },
     "execution_count": 58,
     "metadata": {},
     "output_type": "execute_result"
    }
   ],
   "source": [
    "s.lstrip()"
   ]
  },
  {
   "cell_type": "code",
   "execution_count": 59,
   "id": "29183a24",
   "metadata": {},
   "outputs": [
    {
     "data": {
      "text/plain": [
       "'  py   th'"
      ]
     },
     "execution_count": 59,
     "metadata": {},
     "output_type": "execute_result"
    }
   ],
   "source": [
    "s.rstrip()"
   ]
  },
  {
   "cell_type": "code",
   "execution_count": 60,
   "id": "22ebe3ca",
   "metadata": {},
   "outputs": [
    {
     "data": {
      "text/plain": [
       "'payatahaoan'"
      ]
     },
     "execution_count": 60,
     "metadata": {},
     "output_type": "execute_result"
    }
   ],
   "source": [
    "\"a\".join(\"python\")"
   ]
  },
  {
   "cell_type": "code",
   "execution_count": 61,
   "id": "c6bbd2ce",
   "metadata": {},
   "outputs": [
    {
     "data": {
      "text/plain": [
       "'  py   th   '"
      ]
     },
     "execution_count": 61,
     "metadata": {},
     "output_type": "execute_result"
    }
   ],
   "source": [
    "s"
   ]
  },
  {
   "cell_type": "code",
   "execution_count": 62,
   "id": "ff477b64",
   "metadata": {},
   "outputs": [],
   "source": [
    "s = 'pyth'"
   ]
  },
  {
   "cell_type": "code",
   "execution_count": 63,
   "id": "fe7f339a",
   "metadata": {},
   "outputs": [
    {
     "data": {
      "text/plain": [
       "'########pyth########'"
      ]
     },
     "execution_count": 63,
     "metadata": {},
     "output_type": "execute_result"
    }
   ],
   "source": [
    "s.center(20, \"#\")"
   ]
  },
  {
   "cell_type": "code",
   "execution_count": 64,
   "id": "220b4cef",
   "metadata": {},
   "outputs": [],
   "source": [
    "s = \"python\""
   ]
  },
  {
   "cell_type": "code",
   "execution_count": 65,
   "id": "03eeb83b",
   "metadata": {},
   "outputs": [
    {
     "data": {
      "text/plain": [
       "False"
      ]
     },
     "execution_count": 65,
     "metadata": {},
     "output_type": "execute_result"
    }
   ],
   "source": [
    "s.isupper()"
   ]
  },
  {
   "cell_type": "code",
   "execution_count": 66,
   "id": "129015e1",
   "metadata": {},
   "outputs": [],
   "source": [
    "s1 = 'PYTH'"
   ]
  },
  {
   "cell_type": "code",
   "execution_count": 67,
   "id": "a7f128f2",
   "metadata": {},
   "outputs": [
    {
     "data": {
      "text/plain": [
       "True"
      ]
     },
     "execution_count": 67,
     "metadata": {},
     "output_type": "execute_result"
    }
   ],
   "source": [
    "s1.isupper()"
   ]
  },
  {
   "cell_type": "code",
   "execution_count": 68,
   "id": "dd853e7d",
   "metadata": {},
   "outputs": [
    {
     "data": {
      "text/plain": [
       "True"
      ]
     },
     "execution_count": 68,
     "metadata": {},
     "output_type": "execute_result"
    }
   ],
   "source": [
    "s.islower()"
   ]
  },
  {
   "cell_type": "code",
   "execution_count": 69,
   "id": "bc4d5300",
   "metadata": {},
   "outputs": [
    {
     "data": {
      "text/plain": [
       "False"
      ]
     },
     "execution_count": 69,
     "metadata": {},
     "output_type": "execute_result"
    }
   ],
   "source": [
    "s.isspace()"
   ]
  },
  {
   "cell_type": "code",
   "execution_count": 70,
   "id": "b2d39d71",
   "metadata": {},
   "outputs": [],
   "source": [
    "s = \"g j \""
   ]
  },
  {
   "cell_type": "code",
   "execution_count": 71,
   "id": "55359874",
   "metadata": {},
   "outputs": [
    {
     "data": {
      "text/plain": [
       "False"
      ]
     },
     "execution_count": 71,
     "metadata": {},
     "output_type": "execute_result"
    }
   ],
   "source": [
    "s.isspace()"
   ]
  },
  {
   "cell_type": "code",
   "execution_count": 72,
   "id": "069e4270",
   "metadata": {},
   "outputs": [],
   "source": [
    "s = \"python\""
   ]
  },
  {
   "cell_type": "code",
   "execution_count": 73,
   "id": "e1ea0a2e",
   "metadata": {},
   "outputs": [
    {
     "data": {
      "text/plain": [
       "False"
      ]
     },
     "execution_count": 73,
     "metadata": {},
     "output_type": "execute_result"
    }
   ],
   "source": [
    "s.isdigit()"
   ]
  },
  {
   "cell_type": "code",
   "execution_count": null,
   "id": "24acee17",
   "metadata": {},
   "outputs": [],
   "source": []
  },
  {
   "cell_type": "code",
   "execution_count": null,
   "id": "d27be7ec",
   "metadata": {},
   "outputs": [],
   "source": []
  },
  {
   "cell_type": "code",
   "execution_count": 74,
   "id": "989097fd",
   "metadata": {},
   "outputs": [],
   "source": [
    "s6 = \"sdf3454\""
   ]
  },
  {
   "cell_type": "code",
   "execution_count": 75,
   "id": "44039446",
   "metadata": {},
   "outputs": [
    {
     "data": {
      "text/plain": [
       "False"
      ]
     },
     "execution_count": 75,
     "metadata": {},
     "output_type": "execute_result"
    }
   ],
   "source": [
    "s6.isdigit()"
   ]
  },
  {
   "cell_type": "code",
   "execution_count": 76,
   "id": "23e552d6",
   "metadata": {},
   "outputs": [
    {
     "data": {
      "text/plain": [
       "'python'"
      ]
     },
     "execution_count": 76,
     "metadata": {},
     "output_type": "execute_result"
    }
   ],
   "source": [
    "s"
   ]
  },
  {
   "cell_type": "code",
   "execution_count": 77,
   "id": "c4270808",
   "metadata": {},
   "outputs": [
    {
     "data": {
      "text/plain": [
       "True"
      ]
     },
     "execution_count": 77,
     "metadata": {},
     "output_type": "execute_result"
    }
   ],
   "source": [
    "s.isalnum()"
   ]
  },
  {
   "cell_type": "code",
   "execution_count": 78,
   "id": "58eb4502",
   "metadata": {},
   "outputs": [
    {
     "data": {
      "text/plain": [
       "True"
      ]
     },
     "execution_count": 78,
     "metadata": {},
     "output_type": "execute_result"
    }
   ],
   "source": [
    "s.isalpha()"
   ]
  },
  {
   "cell_type": "code",
   "execution_count": 79,
   "id": "8f945299",
   "metadata": {},
   "outputs": [],
   "source": [
    "s7 =\"345345sgfdg\" "
   ]
  },
  {
   "cell_type": "code",
   "execution_count": 80,
   "id": "816c175e",
   "metadata": {},
   "outputs": [
    {
     "data": {
      "text/plain": [
       "True"
      ]
     },
     "execution_count": 80,
     "metadata": {},
     "output_type": "execute_result"
    }
   ],
   "source": [
    "s.isalpha()"
   ]
  },
  {
   "cell_type": "code",
   "execution_count": 81,
   "id": "807a2f40",
   "metadata": {},
   "outputs": [
    {
     "data": {
      "text/plain": [
       "'python'"
      ]
     },
     "execution_count": 81,
     "metadata": {},
     "output_type": "execute_result"
    }
   ],
   "source": [
    "s"
   ]
  },
  {
   "cell_type": "code",
   "execution_count": 82,
   "id": "98524865",
   "metadata": {},
   "outputs": [
    {
     "data": {
      "text/plain": [
       "False"
      ]
     },
     "execution_count": 82,
     "metadata": {},
     "output_type": "execute_result"
    }
   ],
   "source": [
    "s.startswith('i')"
   ]
  },
  {
   "cell_type": "code",
   "execution_count": 83,
   "id": "edc84bef",
   "metadata": {},
   "outputs": [
    {
     "data": {
      "text/plain": [
       "False"
      ]
     },
     "execution_count": 83,
     "metadata": {},
     "output_type": "execute_result"
    }
   ],
   "source": [
    "s.startswith('s')"
   ]
  },
  {
   "cell_type": "code",
   "execution_count": 84,
   "id": "f27148b2",
   "metadata": {},
   "outputs": [
    {
     "data": {
      "text/plain": [
       "False"
      ]
     },
     "execution_count": 84,
     "metadata": {},
     "output_type": "execute_result"
    }
   ],
   "source": [
    "s.startswith(\"S\")"
   ]
  },
  {
   "cell_type": "code",
   "execution_count": 85,
   "id": "b5574ad5",
   "metadata": {},
   "outputs": [
    {
     "data": {
      "text/plain": [
       "True"
      ]
     },
     "execution_count": 85,
     "metadata": {},
     "output_type": "execute_result"
    }
   ],
   "source": [
    "s.endswith('n')"
   ]
  },
  {
   "cell_type": "code",
   "execution_count": 86,
   "id": "606b67c5",
   "metadata": {},
   "outputs": [
    {
     "data": {
      "text/plain": [
       "False"
      ]
     },
     "execution_count": 86,
     "metadata": {},
     "output_type": "execute_result"
    }
   ],
   "source": [
    "s.endswith('u')"
   ]
  },
  {
   "cell_type": "code",
   "execution_count": 87,
   "id": "45354aa2",
   "metadata": {},
   "outputs": [
    {
     "data": {
      "text/plain": [
       "'python'"
      ]
     },
     "execution_count": 87,
     "metadata": {},
     "output_type": "execute_result"
    }
   ],
   "source": [
    "s"
   ]
  },
  {
   "cell_type": "code",
   "execution_count": 88,
   "id": "df5e4232",
   "metadata": {},
   "outputs": [
    {
     "data": {
      "text/plain": [
       "True"
      ]
     },
     "execution_count": 88,
     "metadata": {},
     "output_type": "execute_result"
    }
   ],
   "source": [
    "s.isascii()"
   ]
  },
  {
   "cell_type": "code",
   "execution_count": 89,
   "id": "6ef80b33",
   "metadata": {},
   "outputs": [],
   "source": [
    "s = \"python123\""
   ]
  },
  {
   "cell_type": "code",
   "execution_count": 90,
   "id": "049975e3",
   "metadata": {},
   "outputs": [
    {
     "data": {
      "text/plain": [
       "True"
      ]
     },
     "execution_count": 90,
     "metadata": {},
     "output_type": "execute_result"
    }
   ],
   "source": [
    "s.isalnum()"
   ]
  },
  {
   "cell_type": "code",
   "execution_count": 91,
   "id": "791a1ca0",
   "metadata": {},
   "outputs": [],
   "source": [
    "s = '5'"
   ]
  },
  {
   "cell_type": "code",
   "execution_count": 92,
   "id": "165911da",
   "metadata": {},
   "outputs": [
    {
     "data": {
      "text/plain": [
       "False"
      ]
     },
     "execution_count": 92,
     "metadata": {},
     "output_type": "execute_result"
    }
   ],
   "source": [
    "s.isspace()"
   ]
  },
  {
   "cell_type": "code",
   "execution_count": 93,
   "id": "5fc4fc96",
   "metadata": {},
   "outputs": [
    {
     "data": {
      "text/plain": [
       "False"
      ]
     },
     "execution_count": 93,
     "metadata": {},
     "output_type": "execute_result"
    }
   ],
   "source": [
    "s=\" 6  \"\n",
    "s.isspace()"
   ]
  },
  {
   "cell_type": "code",
   "execution_count": 94,
   "id": "52f2ad84",
   "metadata": {},
   "outputs": [],
   "source": [
    "s = \"453443\""
   ]
  },
  {
   "cell_type": "code",
   "execution_count": 95,
   "id": "674d63c1",
   "metadata": {},
   "outputs": [],
   "source": [
    "s1 = \"fasfdas345346346\""
   ]
  },
  {
   "cell_type": "code",
   "execution_count": 96,
   "id": "23922f1a",
   "metadata": {},
   "outputs": [
    {
     "data": {
      "text/plain": [
       "False"
      ]
     },
     "execution_count": 96,
     "metadata": {},
     "output_type": "execute_result"
    }
   ],
   "source": [
    "s1.isnumeric()"
   ]
  },
  {
   "cell_type": "code",
   "execution_count": 97,
   "id": "d04f748f",
   "metadata": {},
   "outputs": [],
   "source": [
    "s2 = \"345435 3455 3453\""
   ]
  },
  {
   "cell_type": "code",
   "execution_count": 98,
   "id": "845660a8",
   "metadata": {},
   "outputs": [
    {
     "data": {
      "text/plain": [
       "False"
      ]
     },
     "execution_count": 98,
     "metadata": {},
     "output_type": "execute_result"
    }
   ],
   "source": [
    "s2.isnumeric()"
   ]
  },
  {
   "cell_type": "code",
   "execution_count": 99,
   "id": "4d8f7196",
   "metadata": {},
   "outputs": [
    {
     "data": {
      "text/plain": [
       "True"
      ]
     },
     "execution_count": 99,
     "metadata": {},
     "output_type": "execute_result"
    }
   ],
   "source": [
    "s.isnumeric()"
   ]
  },
  {
   "cell_type": "code",
   "execution_count": 100,
   "id": "4da94a3d",
   "metadata": {},
   "outputs": [],
   "source": [
    "s = 56"
   ]
  },
  {
   "cell_type": "code",
   "execution_count": 101,
   "id": "1c162fe6",
   "metadata": {},
   "outputs": [],
   "source": [
    "s = \"pyth\""
   ]
  },
  {
   "cell_type": "code",
   "execution_count": 102,
   "id": "387f7fcb",
   "metadata": {},
   "outputs": [
    {
     "data": {
      "text/plain": [
       "<reversed at 0x1bb2da066a0>"
      ]
     },
     "execution_count": 102,
     "metadata": {},
     "output_type": "execute_result"
    }
   ],
   "source": [
    "reversed(s)"
   ]
  },
  {
   "cell_type": "code",
   "execution_count": 103,
   "id": "5ef3ee3b",
   "metadata": {},
   "outputs": [
    {
     "data": {
      "text/plain": [
       "'pdydtdhdodn'"
      ]
     },
     "execution_count": 103,
     "metadata": {},
     "output_type": "execute_result"
    }
   ],
   "source": [
    "'d'.join(\"python\")"
   ]
  },
  {
   "cell_type": "code",
   "execution_count": 104,
   "id": "a6a76c7c",
   "metadata": {},
   "outputs": [],
   "source": [
    "s = \"419422.2662\""
   ]
  },
  {
   "cell_type": "code",
   "execution_count": 105,
   "id": "e1af557b",
   "metadata": {},
   "outputs": [
    {
     "data": {
      "text/plain": [
       "False"
      ]
     },
     "execution_count": 105,
     "metadata": {},
     "output_type": "execute_result"
    }
   ],
   "source": [
    "s.isdigit()"
   ]
  },
  {
   "cell_type": "code",
   "execution_count": 106,
   "id": "ed82853a",
   "metadata": {},
   "outputs": [
    {
     "data": {
      "text/plain": [
       "False"
      ]
     },
     "execution_count": 106,
     "metadata": {},
     "output_type": "execute_result"
    }
   ],
   "source": [
    "s.isnumeric()"
   ]
  },
  {
   "cell_type": "code",
   "execution_count": 107,
   "id": "3eb9969d",
   "metadata": {},
   "outputs": [],
   "source": [
    "s = 'python\\tclass\\tprogramm'"
   ]
  },
  {
   "cell_type": "code",
   "execution_count": 108,
   "id": "28032c2f",
   "metadata": {},
   "outputs": [
    {
     "data": {
      "text/plain": [
       "'python  class   programm'"
      ]
     },
     "execution_count": 108,
     "metadata": {},
     "output_type": "execute_result"
    }
   ],
   "source": [
    "s.expandtabs()"
   ]
  },
  {
   "cell_type": "code",
   "execution_count": 109,
   "id": "ad5fb08c",
   "metadata": {},
   "outputs": [],
   "source": [
    "s = \"hhh\\tgge\\thhe\""
   ]
  },
  {
   "cell_type": "code",
   "execution_count": 110,
   "id": "74fda7c9",
   "metadata": {},
   "outputs": [
    {
     "data": {
      "text/plain": [
       "'hhh     gge     hhe'"
      ]
     },
     "execution_count": 110,
     "metadata": {},
     "output_type": "execute_result"
    }
   ],
   "source": [
    "s.expandtabs()"
   ]
  },
  {
   "cell_type": "markdown",
   "id": "c5ac7de0",
   "metadata": {},
   "source": [
    "# <center> List, Tuple, Dict, Set </center>"
   ]
  },
  {
   "cell_type": "code",
   "execution_count": 111,
   "id": "704a26bb",
   "metadata": {},
   "outputs": [],
   "source": [
    "l = [1,2,3,4,5, \"python\", 45.67, True]"
   ]
  },
  {
   "cell_type": "code",
   "execution_count": 112,
   "id": "83283ff4",
   "metadata": {},
   "outputs": [
    {
     "data": {
      "text/plain": [
       "[1, 2, 3, 4, 5, 'python', 45.67, True]"
      ]
     },
     "execution_count": 112,
     "metadata": {},
     "output_type": "execute_result"
    }
   ],
   "source": [
    "l"
   ]
  },
  {
   "cell_type": "code",
   "execution_count": 113,
   "id": "48ef4c9d",
   "metadata": {},
   "outputs": [
    {
     "data": {
      "text/plain": [
       "1"
      ]
     },
     "execution_count": 113,
     "metadata": {},
     "output_type": "execute_result"
    }
   ],
   "source": [
    "l[0]"
   ]
  },
  {
   "cell_type": "code",
   "execution_count": 114,
   "id": "a026f650",
   "metadata": {},
   "outputs": [
    {
     "data": {
      "text/plain": [
       "True"
      ]
     },
     "execution_count": 114,
     "metadata": {},
     "output_type": "execute_result"
    }
   ],
   "source": [
    "l[-1]"
   ]
  },
  {
   "cell_type": "code",
   "execution_count": 115,
   "id": "0a626f18",
   "metadata": {},
   "outputs": [
    {
     "data": {
      "text/plain": [
       "8"
      ]
     },
     "execution_count": 115,
     "metadata": {},
     "output_type": "execute_result"
    }
   ],
   "source": [
    "len(l)"
   ]
  },
  {
   "cell_type": "code",
   "execution_count": 116,
   "id": "0cc193d7",
   "metadata": {},
   "outputs": [
    {
     "data": {
      "text/plain": [
       "[1, 2, 3, 4, 5]"
      ]
     },
     "execution_count": 116,
     "metadata": {},
     "output_type": "execute_result"
    }
   ],
   "source": [
    "l[0:5]"
   ]
  },
  {
   "cell_type": "code",
   "execution_count": 117,
   "id": "1a336c78",
   "metadata": {},
   "outputs": [
    {
     "data": {
      "text/plain": [
       "[1, 2, 3, 4, 5, 'python', 45.67, True]"
      ]
     },
     "execution_count": 117,
     "metadata": {},
     "output_type": "execute_result"
    }
   ],
   "source": [
    "l"
   ]
  },
  {
   "cell_type": "code",
   "execution_count": 118,
   "id": "b35a8e90",
   "metadata": {},
   "outputs": [
    {
     "data": {
      "text/plain": [
       "[1, 3, 5, 45.67]"
      ]
     },
     "execution_count": 118,
     "metadata": {},
     "output_type": "execute_result"
    }
   ],
   "source": [
    "l[0:100:2]"
   ]
  },
  {
   "cell_type": "code",
   "execution_count": 119,
   "id": "82c58ca1",
   "metadata": {},
   "outputs": [
    {
     "data": {
      "text/plain": [
       "[1, 2, 3, 4, 5, 'python', 45.67, True]"
      ]
     },
     "execution_count": 119,
     "metadata": {},
     "output_type": "execute_result"
    }
   ],
   "source": [
    "l"
   ]
  },
  {
   "cell_type": "code",
   "execution_count": 120,
   "id": "3ee09f32",
   "metadata": {},
   "outputs": [
    {
     "data": {
      "text/plain": [
       "[]"
      ]
     },
     "execution_count": 120,
     "metadata": {},
     "output_type": "execute_result"
    }
   ],
   "source": [
    "l[0:8:-1]"
   ]
  },
  {
   "cell_type": "code",
   "execution_count": 121,
   "id": "063ef27c",
   "metadata": {},
   "outputs": [
    {
     "data": {
      "text/plain": [
       "[1, 2, 3]"
      ]
     },
     "execution_count": 121,
     "metadata": {},
     "output_type": "execute_result"
    }
   ],
   "source": [
    "l[:3]"
   ]
  },
  {
   "cell_type": "code",
   "execution_count": 122,
   "id": "4e12dde3",
   "metadata": {},
   "outputs": [
    {
     "data": {
      "text/plain": [
       "[1, 2, 3, 4, 5, 'python', 45.67, True, 'python']"
      ]
     },
     "execution_count": 122,
     "metadata": {},
     "output_type": "execute_result"
    }
   ],
   "source": [
    "l+[\"python\"]"
   ]
  },
  {
   "cell_type": "code",
   "execution_count": 123,
   "id": "dde24e46",
   "metadata": {},
   "outputs": [
    {
     "data": {
      "text/plain": [
       "[1, 2, 3, 4, 5, 'python', 45.67, True, 1, 2, 3, 4, 5, 'python', 45.67, True]"
      ]
     },
     "execution_count": 123,
     "metadata": {},
     "output_type": "execute_result"
    }
   ],
   "source": [
    "l*2"
   ]
  },
  {
   "cell_type": "code",
   "execution_count": 124,
   "id": "a6bfcffd",
   "metadata": {},
   "outputs": [
    {
     "data": {
      "text/plain": [
       "[1, 2, 3, 4, 5, 'python', 45.67, True]"
      ]
     },
     "execution_count": 124,
     "metadata": {},
     "output_type": "execute_result"
    }
   ],
   "source": [
    "l"
   ]
  },
  {
   "cell_type": "code",
   "execution_count": 125,
   "id": "5c9af62a",
   "metadata": {},
   "outputs": [
    {
     "data": {
      "text/plain": [
       "False"
      ]
     },
     "execution_count": 125,
     "metadata": {},
     "output_type": "execute_result"
    }
   ],
   "source": [
    "60 in l"
   ]
  },
  {
   "cell_type": "code",
   "execution_count": 126,
   "id": "bfc6a079",
   "metadata": {},
   "outputs": [
    {
     "data": {
      "text/plain": [
       "True"
      ]
     },
     "execution_count": 126,
     "metadata": {},
     "output_type": "execute_result"
    }
   ],
   "source": [
    "2 in l"
   ]
  },
  {
   "cell_type": "code",
   "execution_count": 127,
   "id": "aee8877e",
   "metadata": {},
   "outputs": [
    {
     "ename": "TypeError",
     "evalue": "'>' not supported between instances of 'str' and 'int'",
     "output_type": "error",
     "traceback": [
      "\u001b[1;31m---------------------------------------------------------------------------\u001b[0m",
      "\u001b[1;31mTypeError\u001b[0m                                 Traceback (most recent call last)",
      "Input \u001b[1;32mIn [127]\u001b[0m, in \u001b[0;36m<cell line: 1>\u001b[1;34m()\u001b[0m\n\u001b[1;32m----> 1\u001b[0m \u001b[38;5;28;43mmax\u001b[39;49m\u001b[43m(\u001b[49m\u001b[43ml\u001b[49m\u001b[43m)\u001b[49m\n",
      "\u001b[1;31mTypeError\u001b[0m: '>' not supported between instances of 'str' and 'int'"
     ]
    }
   ],
   "source": [
    "max(l)"
   ]
  },
  {
   "cell_type": "code",
   "execution_count": 128,
   "id": "333b5aca",
   "metadata": {},
   "outputs": [],
   "source": [
    "l1 = [3,4,5,6,6]"
   ]
  },
  {
   "cell_type": "code",
   "execution_count": 129,
   "id": "c3661720",
   "metadata": {},
   "outputs": [
    {
     "data": {
      "text/plain": [
       "6"
      ]
     },
     "execution_count": 129,
     "metadata": {},
     "output_type": "execute_result"
    }
   ],
   "source": [
    "max(l1)"
   ]
  },
  {
   "cell_type": "code",
   "execution_count": 130,
   "id": "996b159e",
   "metadata": {},
   "outputs": [
    {
     "data": {
      "text/plain": [
       "[1, 2, 3, 4, 5, 'python', 45.67, True]"
      ]
     },
     "execution_count": 130,
     "metadata": {},
     "output_type": "execute_result"
    }
   ],
   "source": [
    "l"
   ]
  },
  {
   "cell_type": "code",
   "execution_count": 131,
   "id": "0da79b1d",
   "metadata": {},
   "outputs": [],
   "source": [
    "l2 = ['python', \"deep\", \"learning\"]"
   ]
  },
  {
   "cell_type": "code",
   "execution_count": 132,
   "id": "04218740",
   "metadata": {},
   "outputs": [
    {
     "data": {
      "text/plain": [
       "'python'"
      ]
     },
     "execution_count": 132,
     "metadata": {},
     "output_type": "execute_result"
    }
   ],
   "source": [
    "max(l2)"
   ]
  },
  {
   "cell_type": "code",
   "execution_count": 133,
   "id": "7ed70928",
   "metadata": {},
   "outputs": [
    {
     "data": {
      "text/plain": [
       "'deep'"
      ]
     },
     "execution_count": 133,
     "metadata": {},
     "output_type": "execute_result"
    }
   ],
   "source": [
    "min(l2)"
   ]
  },
  {
   "cell_type": "code",
   "execution_count": 134,
   "id": "dd291e3f",
   "metadata": {},
   "outputs": [
    {
     "data": {
      "text/plain": [
       "[1, 2, 3, 4, 5, 'python', 45.67, True]"
      ]
     },
     "execution_count": 134,
     "metadata": {},
     "output_type": "execute_result"
    }
   ],
   "source": [
    "l"
   ]
  },
  {
   "cell_type": "code",
   "execution_count": 135,
   "id": "47f767c6",
   "metadata": {},
   "outputs": [],
   "source": [
    "l.append(\"python\")"
   ]
  },
  {
   "cell_type": "code",
   "execution_count": 136,
   "id": "e566de51",
   "metadata": {},
   "outputs": [
    {
     "data": {
      "text/plain": [
       "[1, 2, 3, 4, 5, 'python', 45.67, True, 'python']"
      ]
     },
     "execution_count": 136,
     "metadata": {},
     "output_type": "execute_result"
    }
   ],
   "source": [
    "l"
   ]
  },
  {
   "cell_type": "code",
   "execution_count": 137,
   "id": "12542c4a",
   "metadata": {},
   "outputs": [],
   "source": [
    "l.append([1,2,3,4])"
   ]
  },
  {
   "cell_type": "code",
   "execution_count": 138,
   "id": "6ffcf00c",
   "metadata": {},
   "outputs": [
    {
     "data": {
      "text/plain": [
       "[1, 2, 3, 4, 5, 'python', 45.67, True, 'python', [1, 2, 3, 4]]"
      ]
     },
     "execution_count": 138,
     "metadata": {},
     "output_type": "execute_result"
    }
   ],
   "source": [
    "l"
   ]
  },
  {
   "cell_type": "code",
   "execution_count": 139,
   "id": "7f7b3658",
   "metadata": {},
   "outputs": [
    {
     "data": {
      "text/plain": [
       "1"
      ]
     },
     "execution_count": 139,
     "metadata": {},
     "output_type": "execute_result"
    }
   ],
   "source": [
    "l.pop(0)"
   ]
  },
  {
   "cell_type": "code",
   "execution_count": 140,
   "id": "44e7a0c9",
   "metadata": {},
   "outputs": [
    {
     "data": {
      "text/plain": [
       "[2, 3, 4, 5, 'python', 45.67, True, 'python', [1, 2, 3, 4]]"
      ]
     },
     "execution_count": 140,
     "metadata": {},
     "output_type": "execute_result"
    }
   ],
   "source": [
    "l"
   ]
  },
  {
   "cell_type": "code",
   "execution_count": 141,
   "id": "965ed016",
   "metadata": {},
   "outputs": [
    {
     "data": {
      "text/plain": [
       "[1, 2, 3, 4]"
      ]
     },
     "execution_count": 141,
     "metadata": {},
     "output_type": "execute_result"
    }
   ],
   "source": [
    "l.pop()"
   ]
  },
  {
   "cell_type": "code",
   "execution_count": 142,
   "id": "7fde1bc7",
   "metadata": {},
   "outputs": [],
   "source": [
    "l.reverse()"
   ]
  },
  {
   "cell_type": "code",
   "execution_count": 143,
   "id": "6b559b78",
   "metadata": {},
   "outputs": [
    {
     "data": {
      "text/plain": [
       "['python', True, 45.67, 'python', 5, 4, 3, 2]"
      ]
     },
     "execution_count": 143,
     "metadata": {},
     "output_type": "execute_result"
    }
   ],
   "source": [
    "l"
   ]
  },
  {
   "cell_type": "code",
   "execution_count": 144,
   "id": "982b604d",
   "metadata": {},
   "outputs": [],
   "source": [
    "l = l[::-1]"
   ]
  },
  {
   "cell_type": "code",
   "execution_count": 145,
   "id": "0a898ce1",
   "metadata": {},
   "outputs": [],
   "source": [
    "l.reverse()"
   ]
  },
  {
   "cell_type": "code",
   "execution_count": 146,
   "id": "aedf189d",
   "metadata": {},
   "outputs": [
    {
     "data": {
      "text/plain": [
       "['python', True, 45.67, 'python', 5, 4, 3, 2]"
      ]
     },
     "execution_count": 146,
     "metadata": {},
     "output_type": "execute_result"
    }
   ],
   "source": [
    "l"
   ]
  },
  {
   "cell_type": "code",
   "execution_count": 147,
   "id": "bfcdd403",
   "metadata": {},
   "outputs": [
    {
     "ename": "TypeError",
     "evalue": "'<' not supported between instances of 'bool' and 'str'",
     "output_type": "error",
     "traceback": [
      "\u001b[1;31m---------------------------------------------------------------------------\u001b[0m",
      "\u001b[1;31mTypeError\u001b[0m                                 Traceback (most recent call last)",
      "Input \u001b[1;32mIn [147]\u001b[0m, in \u001b[0;36m<cell line: 1>\u001b[1;34m()\u001b[0m\n\u001b[1;32m----> 1\u001b[0m \u001b[43ml\u001b[49m\u001b[38;5;241;43m.\u001b[39;49m\u001b[43msort\u001b[49m\u001b[43m(\u001b[49m\u001b[43m)\u001b[49m\n",
      "\u001b[1;31mTypeError\u001b[0m: '<' not supported between instances of 'bool' and 'str'"
     ]
    }
   ],
   "source": [
    "l.sort()"
   ]
  },
  {
   "cell_type": "code",
   "execution_count": 148,
   "id": "ea2d8080",
   "metadata": {},
   "outputs": [
    {
     "data": {
      "text/plain": [
       "['python', True, 45.67, 'python', 5, 4, 3, 2]"
      ]
     },
     "execution_count": 148,
     "metadata": {},
     "output_type": "execute_result"
    }
   ],
   "source": [
    "l"
   ]
  },
  {
   "cell_type": "code",
   "execution_count": 154,
   "id": "ead3e195",
   "metadata": {},
   "outputs": [],
   "source": [
    "l3 = [8,98, 34,23,0,1]"
   ]
  },
  {
   "cell_type": "code",
   "execution_count": 155,
   "id": "909c10ee",
   "metadata": {},
   "outputs": [],
   "source": [
    "l3.sort(reverse=True)"
   ]
  },
  {
   "cell_type": "code",
   "execution_count": 156,
   "id": "9ac11140",
   "metadata": {},
   "outputs": [
    {
     "data": {
      "text/plain": [
       "[98, 34, 23, 8, 1, 0]"
      ]
     },
     "execution_count": 156,
     "metadata": {},
     "output_type": "execute_result"
    }
   ],
   "source": [
    "l3"
   ]
  },
  {
   "cell_type": "code",
   "execution_count": 159,
   "id": "a4f847e4",
   "metadata": {},
   "outputs": [],
   "source": [
    "l1=[2,3,4]\n",
    "l2=[6,7,8]\n",
    "l3=[8,2,4]"
   ]
  },
  {
   "cell_type": "code",
   "execution_count": 161,
   "id": "b815672e",
   "metadata": {},
   "outputs": [],
   "source": [
    "l4=[l1,l2,l3]"
   ]
  },
  {
   "cell_type": "code",
   "execution_count": 162,
   "id": "258be925",
   "metadata": {},
   "outputs": [
    {
     "data": {
      "text/plain": [
       "[[2, 3, 4], [6, 7, 8], [8, 2, 4]]"
      ]
     },
     "execution_count": 162,
     "metadata": {},
     "output_type": "execute_result"
    }
   ],
   "source": [
    "l4"
   ]
  },
  {
   "cell_type": "code",
   "execution_count": 163,
   "id": "69aea311",
   "metadata": {},
   "outputs": [
    {
     "data": {
      "text/plain": [
       "2"
      ]
     },
     "execution_count": 163,
     "metadata": {},
     "output_type": "execute_result"
    }
   ],
   "source": [
    "l4[2][1]"
   ]
  },
  {
   "cell_type": "code",
   "execution_count": 164,
   "id": "d8156db9",
   "metadata": {},
   "outputs": [
    {
     "data": {
      "text/plain": [
       "['python', True, 45.67, 'python', 5, 4, 3, 2]"
      ]
     },
     "execution_count": 164,
     "metadata": {},
     "output_type": "execute_result"
    }
   ],
   "source": [
    "l"
   ]
  },
  {
   "cell_type": "code",
   "execution_count": 165,
   "id": "172fcd4d",
   "metadata": {},
   "outputs": [
    {
     "data": {
      "text/plain": [
       "1"
      ]
     },
     "execution_count": 165,
     "metadata": {},
     "output_type": "execute_result"
    }
   ],
   "source": [
    "l.count(2)"
   ]
  },
  {
   "cell_type": "code",
   "execution_count": 166,
   "id": "2700c520",
   "metadata": {},
   "outputs": [],
   "source": [
    "l5 = [3,4,5,3,3,3]"
   ]
  },
  {
   "cell_type": "code",
   "execution_count": 167,
   "id": "dfee1f71",
   "metadata": {},
   "outputs": [
    {
     "data": {
      "text/plain": [
       "4"
      ]
     },
     "execution_count": 167,
     "metadata": {},
     "output_type": "execute_result"
    }
   ],
   "source": [
    "l5.count(3)"
   ]
  },
  {
   "cell_type": "code",
   "execution_count": 168,
   "id": "df335156",
   "metadata": {},
   "outputs": [
    {
     "data": {
      "text/plain": [
       "0"
      ]
     },
     "execution_count": 168,
     "metadata": {},
     "output_type": "execute_result"
    }
   ],
   "source": [
    "l1 = [1,2,3]\n",
    "l2=[4,5,6]\n",
    "l3 = [7,8,9]\n",
    "\n",
    "l4=[l1,l2,l3]\n",
    "l4.count(3)"
   ]
  },
  {
   "cell_type": "code",
   "execution_count": 169,
   "id": "ca162ac6",
   "metadata": {},
   "outputs": [
    {
     "data": {
      "text/plain": [
       "[[1, 2, 3], [4, 5, 6], [7, 8, 9]]"
      ]
     },
     "execution_count": 169,
     "metadata": {},
     "output_type": "execute_result"
    }
   ],
   "source": [
    "l4"
   ]
  },
  {
   "cell_type": "code",
   "execution_count": 170,
   "id": "92d2813a",
   "metadata": {},
   "outputs": [
    {
     "data": {
      "text/plain": [
       "['python', True, 45.67, 'python', 5, 4, 3, 2]"
      ]
     },
     "execution_count": 170,
     "metadata": {},
     "output_type": "execute_result"
    }
   ],
   "source": [
    "l"
   ]
  },
  {
   "cell_type": "code",
   "execution_count": 171,
   "id": "814db8e7",
   "metadata": {},
   "outputs": [],
   "source": [
    "l.append('Neuron')"
   ]
  },
  {
   "cell_type": "code",
   "execution_count": 172,
   "id": "1b9d9ae0",
   "metadata": {},
   "outputs": [
    {
     "data": {
      "text/plain": [
       "['python', True, 45.67, 'python', 5, 4, 3, 2, 'Neuron']"
      ]
     },
     "execution_count": 172,
     "metadata": {},
     "output_type": "execute_result"
    }
   ],
   "source": [
    "l"
   ]
  },
  {
   "cell_type": "code",
   "execution_count": 173,
   "id": "157131e6",
   "metadata": {},
   "outputs": [],
   "source": [
    "l.append([4,56,'py'])"
   ]
  },
  {
   "cell_type": "code",
   "execution_count": 174,
   "id": "219800d8",
   "metadata": {},
   "outputs": [
    {
     "data": {
      "text/plain": [
       "['python', True, 45.67, 'python', 5, 4, 3, 2, 'Neuron', [4, 56, 'py']]"
      ]
     },
     "execution_count": 174,
     "metadata": {},
     "output_type": "execute_result"
    }
   ],
   "source": [
    "l"
   ]
  },
  {
   "cell_type": "code",
   "execution_count": 175,
   "id": "75f221a9",
   "metadata": {},
   "outputs": [],
   "source": [
    "l.extend('pth')"
   ]
  },
  {
   "cell_type": "code",
   "execution_count": 176,
   "id": "89fff1e7",
   "metadata": {},
   "outputs": [
    {
     "data": {
      "text/plain": [
       "['python',\n",
       " True,\n",
       " 45.67,\n",
       " 'python',\n",
       " 5,\n",
       " 4,\n",
       " 3,\n",
       " 2,\n",
       " 'Neuron',\n",
       " [4, 56, 'py'],\n",
       " 'p',\n",
       " 't',\n",
       " 'h']"
      ]
     },
     "execution_count": 176,
     "metadata": {},
     "output_type": "execute_result"
    }
   ],
   "source": [
    "l"
   ]
  },
  {
   "cell_type": "code",
   "execution_count": 177,
   "id": "5cadbf8d",
   "metadata": {},
   "outputs": [],
   "source": [
    "l6=[1,2,3]"
   ]
  },
  {
   "cell_type": "code",
   "execution_count": 178,
   "id": "6f049032",
   "metadata": {},
   "outputs": [],
   "source": [
    "l6.append([4,5,6])"
   ]
  },
  {
   "cell_type": "code",
   "execution_count": 179,
   "id": "56aeddbb",
   "metadata": {},
   "outputs": [
    {
     "data": {
      "text/plain": [
       "[1, 2, 3, [4, 5, 6]]"
      ]
     },
     "execution_count": 179,
     "metadata": {},
     "output_type": "execute_result"
    }
   ],
   "source": [
    "l6"
   ]
  },
  {
   "cell_type": "code",
   "execution_count": 180,
   "id": "45c1428a",
   "metadata": {},
   "outputs": [],
   "source": [
    "l6.append('thon')"
   ]
  },
  {
   "cell_type": "code",
   "execution_count": 181,
   "id": "3376726d",
   "metadata": {},
   "outputs": [
    {
     "data": {
      "text/plain": [
       "[1, 2, 3, [4, 5, 6], 'thon']"
      ]
     },
     "execution_count": 181,
     "metadata": {},
     "output_type": "execute_result"
    }
   ],
   "source": [
    "l6"
   ]
  },
  {
   "cell_type": "code",
   "execution_count": 183,
   "id": "cbc2d5d3",
   "metadata": {},
   "outputs": [],
   "source": [
    "l6.append(45)"
   ]
  },
  {
   "cell_type": "code",
   "execution_count": 184,
   "id": "f1d98396",
   "metadata": {},
   "outputs": [
    {
     "data": {
      "text/plain": [
       "[1, 2, 3, [4, 5, 6], 'thon', 45]"
      ]
     },
     "execution_count": 184,
     "metadata": {},
     "output_type": "execute_result"
    }
   ],
   "source": [
    "l6"
   ]
  },
  {
   "cell_type": "code",
   "execution_count": 185,
   "id": "49e17fcb",
   "metadata": {},
   "outputs": [],
   "source": [
    "l6.extend([45,34,21])"
   ]
  },
  {
   "cell_type": "code",
   "execution_count": 186,
   "id": "16e30efc",
   "metadata": {},
   "outputs": [
    {
     "data": {
      "text/plain": [
       "[1, 2, 3, [4, 5, 6], 'thon', 45, 45, 34, 21]"
      ]
     },
     "execution_count": 186,
     "metadata": {},
     "output_type": "execute_result"
    }
   ],
   "source": [
    "l6"
   ]
  },
  {
   "cell_type": "code",
   "execution_count": 187,
   "id": "b7105c5b",
   "metadata": {},
   "outputs": [],
   "source": [
    "l6.extend('thonn')"
   ]
  },
  {
   "cell_type": "code",
   "execution_count": 188,
   "id": "f56a6917",
   "metadata": {},
   "outputs": [
    {
     "data": {
      "text/plain": [
       "[1, 2, 3, [4, 5, 6], 'thon', 45, 45, 34, 21, 't', 'h', 'o', 'n']"
      ]
     },
     "execution_count": 188,
     "metadata": {},
     "output_type": "execute_result"
    }
   ],
   "source": [
    "l6"
   ]
  },
  {
   "cell_type": "code",
   "execution_count": 189,
   "id": "cdddfc3a",
   "metadata": {},
   "outputs": [
    {
     "data": {
      "text/plain": [
       "[1, 2, 3, [4, 5, 6], 'thon', 45, 45, 34, 21, 't', 'h', 'o', 'n']"
      ]
     },
     "execution_count": 189,
     "metadata": {},
     "output_type": "execute_result"
    }
   ],
   "source": [
    "l6"
   ]
  },
  {
   "cell_type": "code",
   "execution_count": 192,
   "id": "863ae940",
   "metadata": {},
   "outputs": [
    {
     "data": {
      "text/plain": [
       "0"
      ]
     },
     "execution_count": 192,
     "metadata": {},
     "output_type": "execute_result"
    }
   ],
   "source": [
    "l6.index(1)"
   ]
  },
  {
   "cell_type": "code",
   "execution_count": 194,
   "id": "a6783381",
   "metadata": {},
   "outputs": [],
   "source": [
    "l7=[1,2,3,4,55,6,6,6,7]"
   ]
  },
  {
   "cell_type": "code",
   "execution_count": 195,
   "id": "09acf212",
   "metadata": {},
   "outputs": [
    {
     "data": {
      "text/plain": [
       "5"
      ]
     },
     "execution_count": 195,
     "metadata": {},
     "output_type": "execute_result"
    }
   ],
   "source": [
    "l7.index(6)"
   ]
  },
  {
   "cell_type": "code",
   "execution_count": 196,
   "id": "7c4a4810",
   "metadata": {},
   "outputs": [],
   "source": [
    "l= [1,2,3,4,5]"
   ]
  },
  {
   "cell_type": "code",
   "execution_count": 197,
   "id": "d4199c9a",
   "metadata": {},
   "outputs": [],
   "source": [
    "l.append([45])"
   ]
  },
  {
   "cell_type": "code",
   "execution_count": 198,
   "id": "411add56",
   "metadata": {},
   "outputs": [
    {
     "data": {
      "text/plain": [
       "[1, 2, 3, 4, 5, [45]]"
      ]
     },
     "execution_count": 198,
     "metadata": {},
     "output_type": "execute_result"
    }
   ],
   "source": [
    "l"
   ]
  },
  {
   "cell_type": "code",
   "execution_count": 199,
   "id": "8a213a4b",
   "metadata": {},
   "outputs": [],
   "source": [
    "l.insert(5,\"python\")"
   ]
  },
  {
   "cell_type": "code",
   "execution_count": 200,
   "id": "917f5a06",
   "metadata": {},
   "outputs": [
    {
     "data": {
      "text/plain": [
       "[1, 2, 3, 4, 5, 'python', [45]]"
      ]
     },
     "execution_count": 200,
     "metadata": {},
     "output_type": "execute_result"
    }
   ],
   "source": [
    "l"
   ]
  },
  {
   "cell_type": "code",
   "execution_count": 201,
   "id": "8d38bf69",
   "metadata": {},
   "outputs": [
    {
     "data": {
      "text/plain": [
       "[45]"
      ]
     },
     "execution_count": 201,
     "metadata": {},
     "output_type": "execute_result"
    }
   ],
   "source": [
    "l.pop()"
   ]
  },
  {
   "cell_type": "code",
   "execution_count": 202,
   "id": "406abe20",
   "metadata": {},
   "outputs": [
    {
     "data": {
      "text/plain": [
       "[1, 2, 3, 4, 5, 'python']"
      ]
     },
     "execution_count": 202,
     "metadata": {},
     "output_type": "execute_result"
    }
   ],
   "source": [
    "l"
   ]
  },
  {
   "cell_type": "code",
   "execution_count": 203,
   "id": "c4b70b58",
   "metadata": {},
   "outputs": [
    {
     "data": {
      "text/plain": [
       "3"
      ]
     },
     "execution_count": 203,
     "metadata": {},
     "output_type": "execute_result"
    }
   ],
   "source": [
    "l.pop(2)"
   ]
  },
  {
   "cell_type": "code",
   "execution_count": 205,
   "id": "575cde2f",
   "metadata": {},
   "outputs": [
    {
     "data": {
      "text/plain": [
       "[1, 2, 4, 5, 'python']"
      ]
     },
     "execution_count": 205,
     "metadata": {},
     "output_type": "execute_result"
    }
   ],
   "source": [
    "l"
   ]
  },
  {
   "cell_type": "code",
   "execution_count": 207,
   "id": "9dc307f0",
   "metadata": {},
   "outputs": [],
   "source": [
    "l.remove(4)"
   ]
  },
  {
   "cell_type": "code",
   "execution_count": 208,
   "id": "bd1cb82c",
   "metadata": {},
   "outputs": [
    {
     "data": {
      "text/plain": [
       "[1, 2, 5, 'python']"
      ]
     },
     "execution_count": 208,
     "metadata": {},
     "output_type": "execute_result"
    }
   ],
   "source": [
    "l"
   ]
  },
  {
   "cell_type": "code",
   "execution_count": 209,
   "id": "9a1cd22e",
   "metadata": {},
   "outputs": [],
   "source": [
    "l=[1,2,3,4]"
   ]
  },
  {
   "cell_type": "code",
   "execution_count": 210,
   "id": "49688e68",
   "metadata": {},
   "outputs": [],
   "source": [
    "l[2]=\"class\""
   ]
  },
  {
   "cell_type": "code",
   "execution_count": 211,
   "id": "cbe5360a",
   "metadata": {},
   "outputs": [
    {
     "data": {
      "text/plain": [
       "[1, 2, 'class', 4]"
      ]
     },
     "execution_count": 211,
     "metadata": {},
     "output_type": "execute_result"
    }
   ],
   "source": [
    "l"
   ]
  },
  {
   "cell_type": "code",
   "execution_count": 212,
   "id": "75ee1167",
   "metadata": {},
   "outputs": [],
   "source": [
    "l=[1,2,2,3]"
   ]
  },
  {
   "cell_type": "code",
   "execution_count": 213,
   "id": "6922790d",
   "metadata": {},
   "outputs": [],
   "source": [
    "l.clear()"
   ]
  },
  {
   "cell_type": "code",
   "execution_count": 214,
   "id": "36db488b",
   "metadata": {},
   "outputs": [
    {
     "data": {
      "text/plain": [
       "[]"
      ]
     },
     "execution_count": 214,
     "metadata": {},
     "output_type": "execute_result"
    }
   ],
   "source": [
    "l"
   ]
  },
  {
   "cell_type": "code",
   "execution_count": 215,
   "id": "13a82e13",
   "metadata": {},
   "outputs": [],
   "source": [
    "t=(4,5,6,7,\"class\",45,67,True)"
   ]
  },
  {
   "cell_type": "code",
   "execution_count": 216,
   "id": "ed34de75",
   "metadata": {},
   "outputs": [
    {
     "data": {
      "text/plain": [
       "tuple"
      ]
     },
     "execution_count": 216,
     "metadata": {},
     "output_type": "execute_result"
    }
   ],
   "source": [
    "type(t)"
   ]
  },
  {
   "cell_type": "code",
   "execution_count": 217,
   "id": "0bb8c3cc",
   "metadata": {},
   "outputs": [
    {
     "data": {
      "text/plain": [
       "4"
      ]
     },
     "execution_count": 217,
     "metadata": {},
     "output_type": "execute_result"
    }
   ],
   "source": [
    "t[0]"
   ]
  },
  {
   "cell_type": "code",
   "execution_count": 219,
   "id": "39803894",
   "metadata": {},
   "outputs": [
    {
     "data": {
      "text/plain": [
       "(4, 5, 6, 7)"
      ]
     },
     "execution_count": 219,
     "metadata": {},
     "output_type": "execute_result"
    }
   ],
   "source": [
    "t[0:4]"
   ]
  },
  {
   "cell_type": "code",
   "execution_count": 220,
   "id": "dc43f668",
   "metadata": {},
   "outputs": [
    {
     "data": {
      "text/plain": [
       "True"
      ]
     },
     "execution_count": 220,
     "metadata": {},
     "output_type": "execute_result"
    }
   ],
   "source": [
    "t[-1]"
   ]
  },
  {
   "cell_type": "code",
   "execution_count": 221,
   "id": "b66410ba",
   "metadata": {},
   "outputs": [
    {
     "data": {
      "text/plain": [
       "(4, 5, 6, 7, 'class', 45, 67, True)"
      ]
     },
     "execution_count": 221,
     "metadata": {},
     "output_type": "execute_result"
    }
   ],
   "source": [
    "t"
   ]
  },
  {
   "cell_type": "code",
   "execution_count": 223,
   "id": "17b02812",
   "metadata": {},
   "outputs": [
    {
     "data": {
      "text/plain": [
       "(4, 6, 'class')"
      ]
     },
     "execution_count": 223,
     "metadata": {},
     "output_type": "execute_result"
    }
   ],
   "source": [
    "t[0:6:2]"
   ]
  },
  {
   "cell_type": "code",
   "execution_count": 224,
   "id": "f90b2ee9",
   "metadata": {},
   "outputs": [
    {
     "data": {
      "text/plain": [
       "()"
      ]
     },
     "execution_count": 224,
     "metadata": {},
     "output_type": "execute_result"
    }
   ],
   "source": [
    "t[0:4:-1]"
   ]
  },
  {
   "cell_type": "code",
   "execution_count": 226,
   "id": "b8cbaa42",
   "metadata": {},
   "outputs": [],
   "source": [
    "l=[1,2,3,454,78]"
   ]
  },
  {
   "cell_type": "code",
   "execution_count": 227,
   "id": "3b9de1fd",
   "metadata": {},
   "outputs": [],
   "source": [
    "l[2]=\"python\""
   ]
  },
  {
   "cell_type": "code",
   "execution_count": 228,
   "id": "aece3b72",
   "metadata": {},
   "outputs": [
    {
     "data": {
      "text/plain": [
       "[1, 2, 'python', 454, 78]"
      ]
     },
     "execution_count": 228,
     "metadata": {},
     "output_type": "execute_result"
    }
   ],
   "source": [
    "l"
   ]
  },
  {
   "cell_type": "code",
   "execution_count": 229,
   "id": "942c7725",
   "metadata": {},
   "outputs": [
    {
     "data": {
      "text/plain": [
       "(4, 5, 6, 7, 'class', 45, 67, True)"
      ]
     },
     "execution_count": 229,
     "metadata": {},
     "output_type": "execute_result"
    }
   ],
   "source": [
    "t"
   ]
  },
  {
   "cell_type": "code",
   "execution_count": 230,
   "id": "f2fcf17d",
   "metadata": {},
   "outputs": [
    {
     "ename": "TypeError",
     "evalue": "'tuple' object does not support item assignment",
     "output_type": "error",
     "traceback": [
      "\u001b[1;31m---------------------------------------------------------------------------\u001b[0m",
      "\u001b[1;31mTypeError\u001b[0m                                 Traceback (most recent call last)",
      "Input \u001b[1;32mIn [230]\u001b[0m, in \u001b[0;36m<cell line: 1>\u001b[1;34m()\u001b[0m\n\u001b[1;32m----> 1\u001b[0m t[\u001b[38;5;241m2\u001b[39m]\u001b[38;5;241m=\u001b[39m\u001b[38;5;124m\"\u001b[39m\u001b[38;5;124mclass\u001b[39m\u001b[38;5;124m\"\u001b[39m\n",
      "\u001b[1;31mTypeError\u001b[0m: 'tuple' object does not support item assignment"
     ]
    }
   ],
   "source": [
    "t[2]=\"class\""
   ]
  },
  {
   "cell_type": "code",
   "execution_count": 231,
   "id": "35e35abf",
   "metadata": {},
   "outputs": [],
   "source": [
    "t1=(3,4,5,6)"
   ]
  },
  {
   "cell_type": "code",
   "execution_count": 232,
   "id": "0f9a4527",
   "metadata": {},
   "outputs": [
    {
     "data": {
      "text/plain": [
       "(3, 4, 5, 6)"
      ]
     },
     "execution_count": 232,
     "metadata": {},
     "output_type": "execute_result"
    }
   ],
   "source": [
    "t1"
   ]
  },
  {
   "cell_type": "code",
   "execution_count": 233,
   "id": "7131fab4",
   "metadata": {},
   "outputs": [
    {
     "data": {
      "text/plain": [
       "(4, 5, 6, 7, 'class', 45, 67, True)"
      ]
     },
     "execution_count": 233,
     "metadata": {},
     "output_type": "execute_result"
    }
   ],
   "source": [
    "t"
   ]
  },
  {
   "cell_type": "code",
   "execution_count": 234,
   "id": "df36e246",
   "metadata": {},
   "outputs": [
    {
     "data": {
      "text/plain": [
       "(4, 5, 6, 7, 'class', 45, 67, True, 3, 4, 5, 6)"
      ]
     },
     "execution_count": 234,
     "metadata": {},
     "output_type": "execute_result"
    }
   ],
   "source": [
    "t+t1"
   ]
  },
  {
   "cell_type": "code",
   "execution_count": 235,
   "id": "f74b9be9",
   "metadata": {},
   "outputs": [
    {
     "data": {
      "text/plain": [
       "0"
      ]
     },
     "execution_count": 235,
     "metadata": {},
     "output_type": "execute_result"
    }
   ],
   "source": [
    "t.count(3)"
   ]
  },
  {
   "cell_type": "code",
   "execution_count": 236,
   "id": "23e6e37e",
   "metadata": {},
   "outputs": [
    {
     "data": {
      "text/plain": [
       "1"
      ]
     },
     "execution_count": 236,
     "metadata": {},
     "output_type": "execute_result"
    }
   ],
   "source": [
    "t.count(4)"
   ]
  },
  {
   "cell_type": "code",
   "execution_count": 238,
   "id": "e055d746",
   "metadata": {},
   "outputs": [
    {
     "data": {
      "text/plain": [
       "1"
      ]
     },
     "execution_count": 238,
     "metadata": {},
     "output_type": "execute_result"
    }
   ],
   "source": [
    "t.index(5)"
   ]
  },
  {
   "cell_type": "code",
   "execution_count": 239,
   "id": "048bbcee",
   "metadata": {},
   "outputs": [],
   "source": [
    "t=t+t1"
   ]
  },
  {
   "cell_type": "code",
   "execution_count": 240,
   "id": "9dbad32f",
   "metadata": {},
   "outputs": [
    {
     "data": {
      "text/plain": [
       "(4, 5, 6, 7, 'class', 45, 67, True, 3, 4, 5, 6)"
      ]
     },
     "execution_count": 240,
     "metadata": {},
     "output_type": "execute_result"
    }
   ],
   "source": [
    "t"
   ]
  },
  {
   "cell_type": "code",
   "execution_count": 241,
   "id": "341677c7",
   "metadata": {},
   "outputs": [],
   "source": [
    "t=(3,4,56,7,\"city\")"
   ]
  },
  {
   "cell_type": "code",
   "execution_count": 242,
   "id": "85732922",
   "metadata": {},
   "outputs": [],
   "source": [
    "t2 = list(t)"
   ]
  },
  {
   "cell_type": "code",
   "execution_count": 243,
   "id": "86ddb1b6",
   "metadata": {},
   "outputs": [
    {
     "data": {
      "text/plain": [
       "[3, 4, 56, 7, 'city']"
      ]
     },
     "execution_count": 243,
     "metadata": {},
     "output_type": "execute_result"
    }
   ],
   "source": [
    "t2"
   ]
  },
  {
   "cell_type": "code",
   "execution_count": 244,
   "id": "20847e89",
   "metadata": {},
   "outputs": [
    {
     "data": {
      "text/plain": [
       "(3, 4, 56, 7, 'city')"
      ]
     },
     "execution_count": 244,
     "metadata": {},
     "output_type": "execute_result"
    }
   ],
   "source": [
    "tuple(t2)"
   ]
  },
  {
   "cell_type": "code",
   "execution_count": 245,
   "id": "b78a167c",
   "metadata": {},
   "outputs": [
    {
     "data": {
      "text/plain": [
       "\"[3, 4, 56, 7, 'city']\""
      ]
     },
     "execution_count": 245,
     "metadata": {},
     "output_type": "execute_result"
    }
   ],
   "source": [
    "str(t2)"
   ]
  },
  {
   "cell_type": "markdown",
   "id": "f98e41c9",
   "metadata": {},
   "source": [
    "# Dictionary"
   ]
  },
  {
   "cell_type": "code",
   "execution_count": 246,
   "id": "3afbcac8",
   "metadata": {},
   "outputs": [],
   "source": [
    "d={}"
   ]
  },
  {
   "cell_type": "code",
   "execution_count": 247,
   "id": "7b21571c",
   "metadata": {},
   "outputs": [
    {
     "data": {
      "text/plain": [
       "dict"
      ]
     },
     "execution_count": 247,
     "metadata": {},
     "output_type": "execute_result"
    }
   ],
   "source": [
    "type(d)"
   ]
  },
  {
   "cell_type": "code",
   "execution_count": 250,
   "id": "57282465",
   "metadata": {},
   "outputs": [],
   "source": [
    "d1 =(1)"
   ]
  },
  {
   "cell_type": "code",
   "execution_count": 251,
   "id": "f1d9706e",
   "metadata": {},
   "outputs": [
    {
     "data": {
      "text/plain": [
       "int"
      ]
     },
     "execution_count": 251,
     "metadata": {},
     "output_type": "execute_result"
    }
   ],
   "source": [
    "type(d1)"
   ]
  },
  {
   "cell_type": "code",
   "execution_count": 252,
   "id": "5a1c4f7e",
   "metadata": {},
   "outputs": [],
   "source": [
    "d2 = {\"key1\":\"value\",234:\"xyz\",\"name\":\"city\",\"no\":1488955}"
   ]
  },
  {
   "cell_type": "code",
   "execution_count": 254,
   "id": "c52b20f5",
   "metadata": {},
   "outputs": [
    {
     "data": {
      "text/plain": [
       "dict"
      ]
     },
     "execution_count": 254,
     "metadata": {},
     "output_type": "execute_result"
    }
   ],
   "source": [
    "type(d2)"
   ]
  },
  {
   "cell_type": "code",
   "execution_count": 255,
   "id": "45e4351e",
   "metadata": {},
   "outputs": [
    {
     "data": {
      "text/plain": [
       "'city'"
      ]
     },
     "execution_count": 255,
     "metadata": {},
     "output_type": "execute_result"
    }
   ],
   "source": [
    "d2['name']"
   ]
  },
  {
   "cell_type": "code",
   "execution_count": 256,
   "id": "70b7fa90",
   "metadata": {},
   "outputs": [
    {
     "data": {
      "text/plain": [
       "1488955"
      ]
     },
     "execution_count": 256,
     "metadata": {},
     "output_type": "execute_result"
    }
   ],
   "source": [
    "d2['no']"
   ]
  },
  {
   "cell_type": "code",
   "execution_count": 263,
   "id": "eab92d04",
   "metadata": {},
   "outputs": [],
   "source": [
    "d3={'name':\"class\",\"tech\":('pytho','ML','DL','NLP','CY','Big Data','Data Analytics')}"
   ]
  },
  {
   "cell_type": "code",
   "execution_count": 264,
   "id": "9a7be241",
   "metadata": {},
   "outputs": [
    {
     "data": {
      "text/plain": [
       "{'name': 'class',\n",
       " 'tech': ('pytho', 'ML', 'DL', 'NLP', 'CY', 'Big Data', 'Data Analytics')}"
      ]
     },
     "execution_count": 264,
     "metadata": {},
     "output_type": "execute_result"
    }
   ],
   "source": [
    "d3"
   ]
  },
  {
   "cell_type": "code",
   "execution_count": 265,
   "id": "f86a0261",
   "metadata": {},
   "outputs": [],
   "source": [
    "d4={'name':'xyz','contact_info':148665,'k1':'xyz0','name1':'xyz'}"
   ]
  },
  {
   "cell_type": "code",
   "execution_count": 266,
   "id": "14b4600b",
   "metadata": {},
   "outputs": [
    {
     "data": {
      "text/plain": [
       "{'name': 'xyz', 'contact_info': 148665, 'k1': 'xyz0', 'name1': 'xyz'}"
      ]
     },
     "execution_count": 266,
     "metadata": {},
     "output_type": "execute_result"
    }
   ],
   "source": [
    "d4"
   ]
  },
  {
   "cell_type": "code",
   "execution_count": 267,
   "id": "81f53c8e",
   "metadata": {},
   "outputs": [
    {
     "data": {
      "text/plain": [
       "{'key1': 'value', 234: 'xyz', 'name': 'city', 'no': 1488955}"
      ]
     },
     "execution_count": 267,
     "metadata": {},
     "output_type": "execute_result"
    }
   ],
   "source": [
    "d2"
   ]
  },
  {
   "cell_type": "code",
   "execution_count": 268,
   "id": "ff7ee263",
   "metadata": {},
   "outputs": [
    {
     "data": {
      "text/plain": [
       "{'name': 'xyz', 'contact_info': 148665, 'k1': 'xyz0', 'name1': 'xyz'}"
      ]
     },
     "execution_count": 268,
     "metadata": {},
     "output_type": "execute_result"
    }
   ],
   "source": [
    "d4"
   ]
  },
  {
   "cell_type": "code",
   "execution_count": 269,
   "id": "190d59fb",
   "metadata": {},
   "outputs": [
    {
     "ename": "SyntaxError",
     "evalue": "invalid syntax (4060002222.py, line 1)",
     "output_type": "error",
     "traceback": [
      "\u001b[1;36m  Input \u001b[1;32mIn [269]\u001b[1;36m\u001b[0m\n\u001b[1;33m    d4{'k1'}{'no'}\u001b[0m\n\u001b[1;37m      ^\u001b[0m\n\u001b[1;31mSyntaxError\u001b[0m\u001b[1;31m:\u001b[0m invalid syntax\n"
     ]
    }
   ],
   "source": [
    "d4{'k1'}{'no'}"
   ]
  },
  {
   "cell_type": "code",
   "execution_count": 272,
   "id": "2283c376",
   "metadata": {},
   "outputs": [
    {
     "ename": "TypeError",
     "evalue": "unhashable type: 'dict'",
     "output_type": "error",
     "traceback": [
      "\u001b[1;31m---------------------------------------------------------------------------\u001b[0m",
      "\u001b[1;31mTypeError\u001b[0m                                 Traceback (most recent call last)",
      "Input \u001b[1;32mIn [272]\u001b[0m, in \u001b[0;36m<cell line: 1>\u001b[1;34m()\u001b[0m\n\u001b[1;32m----> 1\u001b[0m d5 \u001b[38;5;241m=\u001b[39m {_: \u001b[38;5;124m'\u001b[39m\u001b[38;5;124msdfad\u001b[39m\u001b[38;5;124m'\u001b[39m}\n",
      "\u001b[1;31mTypeError\u001b[0m: unhashable type: 'dict'"
     ]
    }
   ],
   "source": [
    "d5 = {_: 'sdfad'}"
   ]
  },
  {
   "cell_type": "code",
   "execution_count": 274,
   "id": "e65a35ab",
   "metadata": {},
   "outputs": [],
   "source": [
    "d6 = {(91,2,34):'fasdf'}"
   ]
  },
  {
   "cell_type": "code",
   "execution_count": 275,
   "id": "ba17ca26",
   "metadata": {},
   "outputs": [
    {
     "data": {
      "text/plain": [
       "{(91, 2, 34): 'fasdf'}"
      ]
     },
     "execution_count": 275,
     "metadata": {},
     "output_type": "execute_result"
    }
   ],
   "source": [
    "d6"
   ]
  },
  {
   "cell_type": "code",
   "execution_count": 276,
   "id": "945a1e3a",
   "metadata": {},
   "outputs": [
    {
     "ename": "SyntaxError",
     "evalue": "invalid syntax (4186811511.py, line 1)",
     "output_type": "error",
     "traceback": [
      "\u001b[1;36m  Input \u001b[1;32mIn [276]\u001b[1;36m\u001b[0m\n\u001b[1;33m    d6{((91,2,34))}\u001b[0m\n\u001b[1;37m      ^\u001b[0m\n\u001b[1;31mSyntaxError\u001b[0m\u001b[1;31m:\u001b[0m invalid syntax\n"
     ]
    }
   ],
   "source": []
  },
  {
   "cell_type": "code",
   "execution_count": 277,
   "id": "30eb5fe2",
   "metadata": {},
   "outputs": [
    {
     "data": {
      "text/plain": [
       "{'key1': 'value', 234: 'xyz', 'name': 'city', 'no': 1488955}"
      ]
     },
     "execution_count": 277,
     "metadata": {},
     "output_type": "execute_result"
    }
   ],
   "source": [
    "d2"
   ]
  },
  {
   "cell_type": "code",
   "execution_count": 278,
   "id": "90e7f901",
   "metadata": {},
   "outputs": [
    {
     "data": {
      "text/plain": [
       "{'name': 'class',\n",
       " 'tech': ('pytho', 'ML', 'DL', 'NLP', 'CY', 'Big Data', 'Data Analytics')}"
      ]
     },
     "execution_count": 278,
     "metadata": {},
     "output_type": "execute_result"
    }
   ],
   "source": [
    "d3"
   ]
  },
  {
   "cell_type": "code",
   "execution_count": 279,
   "id": "8c413ce4",
   "metadata": {},
   "outputs": [
    {
     "ename": "TypeError",
     "evalue": "unsupported operand type(s) for +: 'dict' and 'dict'",
     "output_type": "error",
     "traceback": [
      "\u001b[1;31m---------------------------------------------------------------------------\u001b[0m",
      "\u001b[1;31mTypeError\u001b[0m                                 Traceback (most recent call last)",
      "Input \u001b[1;32mIn [279]\u001b[0m, in \u001b[0;36m<cell line: 1>\u001b[1;34m()\u001b[0m\n\u001b[1;32m----> 1\u001b[0m \u001b[43md2\u001b[49m\u001b[38;5;241;43m+\u001b[39;49m\u001b[43md3\u001b[49m\n",
      "\u001b[1;31mTypeError\u001b[0m: unsupported operand type(s) for +: 'dict' and 'dict'"
     ]
    }
   ],
   "source": [
    "d2+d3\n"
   ]
  },
  {
   "cell_type": "code",
   "execution_count": 280,
   "id": "5f2c4f7c",
   "metadata": {},
   "outputs": [
    {
     "data": {
      "text/plain": [
       "{'key1': 'value', 234: 'xyz', 'name': 'city', 'no': 1488955}"
      ]
     },
     "execution_count": 280,
     "metadata": {},
     "output_type": "execute_result"
    }
   ],
   "source": [
    "d2"
   ]
  },
  {
   "cell_type": "code",
   "execution_count": 281,
   "id": "3f62e40f",
   "metadata": {},
   "outputs": [
    {
     "data": {
      "text/plain": [
       "dict_keys(['key1', 234, 'name', 'no'])"
      ]
     },
     "execution_count": 281,
     "metadata": {},
     "output_type": "execute_result"
    }
   ],
   "source": [
    "d2.keys()"
   ]
  },
  {
   "cell_type": "code",
   "execution_count": 283,
   "id": "fc104b0e",
   "metadata": {},
   "outputs": [
    {
     "data": {
      "text/plain": [
       "dict_values(['value', 'xyz', 'city', 1488955])"
      ]
     },
     "execution_count": 283,
     "metadata": {},
     "output_type": "execute_result"
    }
   ],
   "source": [
    "d2.values()"
   ]
  },
  {
   "cell_type": "markdown",
   "id": "c58d13c9",
   "metadata": {},
   "source": [
    "# Set"
   ]
  },
  {
   "cell_type": "code",
   "execution_count": 289,
   "id": "1f2cd565",
   "metadata": {},
   "outputs": [],
   "source": [
    " s = {3,4,5,6,7,8}"
   ]
  },
  {
   "cell_type": "code",
   "execution_count": 290,
   "id": "effa9347",
   "metadata": {},
   "outputs": [
    {
     "data": {
      "text/plain": [
       "set"
      ]
     },
     "execution_count": 290,
     "metadata": {},
     "output_type": "execute_result"
    }
   ],
   "source": [
    "type(s)"
   ]
  },
  {
   "cell_type": "code",
   "execution_count": 292,
   "id": "4d894812",
   "metadata": {},
   "outputs": [],
   "source": [
    "s1 = {3,4,6,5,6,7,8,9,9,9,0,0,0,}"
   ]
  },
  {
   "cell_type": "code",
   "execution_count": 293,
   "id": "4a305114",
   "metadata": {},
   "outputs": [
    {
     "data": {
      "text/plain": [
       "{0, 3, 4, 5, 6, 7, 8, 9}"
      ]
     },
     "execution_count": 293,
     "metadata": {},
     "output_type": "execute_result"
    }
   ],
   "source": [
    "s1"
   ]
  },
  {
   "cell_type": "code",
   "execution_count": 295,
   "id": "469eb8e7",
   "metadata": {},
   "outputs": [],
   "source": [
    "s2={2365,1452,8456,6884,7845}"
   ]
  },
  {
   "cell_type": "code",
   "execution_count": 296,
   "id": "5ec1b5a3",
   "metadata": {},
   "outputs": [
    {
     "data": {
      "text/plain": [
       "{1452, 2365, 6884, 7845, 8456}"
      ]
     },
     "execution_count": 296,
     "metadata": {},
     "output_type": "execute_result"
    }
   ],
   "source": [
    "s2"
   ]
  },
  {
   "cell_type": "code",
   "execution_count": 297,
   "id": "846f683c",
   "metadata": {},
   "outputs": [],
   "source": [
    "s3 = {'pyth',123,456,12,23,5,'b','6'}"
   ]
  },
  {
   "cell_type": "code",
   "execution_count": 298,
   "id": "d6de0d16",
   "metadata": {},
   "outputs": [
    {
     "data": {
      "text/plain": [
       "{12, 123, 23, 456, 5, '6', 'b', 'pyth'}"
      ]
     },
     "execution_count": 298,
     "metadata": {},
     "output_type": "execute_result"
    }
   ],
   "source": [
    "s3"
   ]
  },
  {
   "cell_type": "code",
   "execution_count": 300,
   "id": "b7eca588",
   "metadata": {},
   "outputs": [
    {
     "ename": "SyntaxError",
     "evalue": "invalid syntax (2017309776.py, line 1)",
     "output_type": "error",
     "traceback": [
      "\u001b[1;36m  Input \u001b[1;32mIn [300]\u001b[1;36m\u001b[0m\n\u001b[1;33m    s3{0}\u001b[0m\n\u001b[1;37m      ^\u001b[0m\n\u001b[1;31mSyntaxError\u001b[0m\u001b[1;31m:\u001b[0m invalid syntax\n"
     ]
    }
   ],
   "source": [
    "s3{0}"
   ]
  },
  {
   "cell_type": "code",
   "execution_count": 301,
   "id": "78f507ca",
   "metadata": {},
   "outputs": [
    {
     "data": {
      "text/plain": [
       "(5, 456, '6', 'pyth', 12, 23, 'b', 123)"
      ]
     },
     "execution_count": 301,
     "metadata": {},
     "output_type": "execute_result"
    }
   ],
   "source": [
    "tuple(s3)"
   ]
  },
  {
   "cell_type": "code",
   "execution_count": 306,
   "id": "00a9b835",
   "metadata": {},
   "outputs": [],
   "source": [
    "l= {3,3,4,6545,9,7,8,5,55,7,7,7,77,7,7,7,7,7,7,7,7,7,7}"
   ]
  },
  {
   "cell_type": "code",
   "execution_count": 307,
   "id": "6aa54af5",
   "metadata": {},
   "outputs": [],
   "source": [
    "l = list(set(l))"
   ]
  },
  {
   "cell_type": "code",
   "execution_count": 308,
   "id": "1abeeddc",
   "metadata": {},
   "outputs": [
    {
     "data": {
      "text/plain": [
       "[3, 4, 5, 7, 8, 9, 77, 6545, 55]"
      ]
     },
     "execution_count": 308,
     "metadata": {},
     "output_type": "execute_result"
    }
   ],
   "source": [
    "l"
   ]
  },
  {
   "cell_type": "code",
   "execution_count": 309,
   "id": "46f8bd6e",
   "metadata": {},
   "outputs": [
    {
     "data": {
      "text/plain": [
       "{1452, 2365, 6884, 7845, 8456}"
      ]
     },
     "execution_count": 309,
     "metadata": {},
     "output_type": "execute_result"
    }
   ],
   "source": [
    "s2"
   ]
  },
  {
   "cell_type": "code",
   "execution_count": 322,
   "id": "641d9de6",
   "metadata": {},
   "outputs": [
    {
     "ename": "SyntaxError",
     "evalue": "invalid syntax (863647662.py, line 1)",
     "output_type": "error",
     "traceback": [
      "\u001b[1;36m  Input \u001b[1;32mIn [322]\u001b[1;36m\u001b[0m\n\u001b[1;33m    s2.add{[1,2,3,4,5]}\u001b[0m\n\u001b[1;37m          ^\u001b[0m\n\u001b[1;31mSyntaxError\u001b[0m\u001b[1;31m:\u001b[0m invalid syntax\n"
     ]
    }
   ],
   "source": [
    "s2.add{[1,2,3,4,5]}"
   ]
  },
  {
   "cell_type": "code",
   "execution_count": 314,
   "id": "a8741af0",
   "metadata": {},
   "outputs": [],
   "source": [
    "s={(1,2,3,4,5),3,4,45,65,6}"
   ]
  },
  {
   "cell_type": "code",
   "execution_count": 315,
   "id": "683439bc",
   "metadata": {},
   "outputs": [
    {
     "data": {
      "text/plain": [
       "{(1, 2, 3, 4, 5), 3, 4, 45, 6, 65}"
      ]
     },
     "execution_count": 315,
     "metadata": {},
     "output_type": "execute_result"
    }
   ],
   "source": [
    "s"
   ]
  },
  {
   "cell_type": "code",
   "execution_count": 316,
   "id": "51ccecaf",
   "metadata": {},
   "outputs": [],
   "source": [
    "s1 = {(1,2,3,4),345,345}"
   ]
  },
  {
   "cell_type": "code",
   "execution_count": 317,
   "id": "fe91e72c",
   "metadata": {},
   "outputs": [
    {
     "data": {
      "text/plain": [
       "{(1, 2, 3, 4, 5), 3, 4, 45, 6, 65}"
      ]
     },
     "execution_count": 317,
     "metadata": {},
     "output_type": "execute_result"
    }
   ],
   "source": [
    "s"
   ]
  },
  {
   "cell_type": "code",
   "execution_count": 321,
   "id": "b1d3338d",
   "metadata": {},
   "outputs": [
    {
     "ename": "KeyError",
     "evalue": "35345",
     "output_type": "error",
     "traceback": [
      "\u001b[1;31m---------------------------------------------------------------------------\u001b[0m",
      "\u001b[1;31mKeyError\u001b[0m                                  Traceback (most recent call last)",
      "Input \u001b[1;32mIn [321]\u001b[0m, in \u001b[0;36m<cell line: 1>\u001b[1;34m()\u001b[0m\n\u001b[1;32m----> 1\u001b[0m \u001b[43ms\u001b[49m\u001b[38;5;241;43m.\u001b[39;49m\u001b[43mremove\u001b[49m\u001b[43m(\u001b[49m\u001b[38;5;241;43m35345\u001b[39;49m\u001b[43m)\u001b[49m\n",
      "\u001b[1;31mKeyError\u001b[0m: 35345"
     ]
    }
   ],
   "source": [
    "s.remove(35345)"
   ]
  },
  {
   "cell_type": "code",
   "execution_count": 320,
   "id": "f524afcf",
   "metadata": {},
   "outputs": [
    {
     "data": {
      "text/plain": [
       "{(1, 2, 3, 4, 5), 3, 4, 45, 6}"
      ]
     },
     "execution_count": 320,
     "metadata": {},
     "output_type": "execute_result"
    }
   ],
   "source": [
    "s"
   ]
  },
  {
   "cell_type": "code",
   "execution_count": 323,
   "id": "ac9ad4af",
   "metadata": {},
   "outputs": [],
   "source": [
    "s.discard(14524)"
   ]
  },
  {
   "cell_type": "code",
   "execution_count": 324,
   "id": "ad8e446d",
   "metadata": {},
   "outputs": [
    {
     "data": {
      "text/plain": [
       "3"
      ]
     },
     "execution_count": 324,
     "metadata": {},
     "output_type": "execute_result"
    }
   ],
   "source": [
    "s.pop()"
   ]
  },
  {
   "cell_type": "code",
   "execution_count": 325,
   "id": "2f8a3b70",
   "metadata": {},
   "outputs": [
    {
     "data": {
      "text/plain": [
       "{(1, 2, 3, 4, 5), 4, 45, 6}"
      ]
     },
     "execution_count": 325,
     "metadata": {},
     "output_type": "execute_result"
    }
   ],
   "source": [
    "s"
   ]
  },
  {
   "cell_type": "code",
   "execution_count": 326,
   "id": "5d633d97",
   "metadata": {},
   "outputs": [
    {
     "data": {
      "text/plain": [
       "set"
      ]
     },
     "execution_count": 326,
     "metadata": {},
     "output_type": "execute_result"
    }
   ],
   "source": [
    "type(s)"
   ]
  },
  {
   "cell_type": "code",
   "execution_count": 327,
   "id": "2fd4bc90",
   "metadata": {},
   "outputs": [
    {
     "name": "stdout",
     "output_type": "stream",
     "text": [
      "{'name': 'rupe', 'contact_info': 34345, 'loc': 'calgary', 'check': {...}}\n",
      "dict_keys(['name', 'contact_info', 'loc', 'check'])\n",
      "dict_items([('name', 'rupe'), ('contact_info', 34345), ('loc', 'calgary'), ('check', {'name': 'rupe', 'contact_info': 34345, 'loc': 'calgary', 'check': {...}})])\n",
      "<class 'dict_items'>\n"
     ]
    }
   ],
   "source": [
    "d4={\"name\":\"neuron\", \"contact_info\":34345, \"name\":\"rupe\"}\n",
    "d4['loc']='calgary'\n",
    "d4['check']=d4\n",
    "\n",
    "print(d4['check'])\n",
    "\n",
    "print(d4.keys())\n",
    "print(d4.items())\n",
    "print(type(d2.items()))\n",
    "\n",
    "##Signature###\n",
    "\n",
    "n=[4,5,7,9,2,3,5,2,1,9,6,7,0]\n",
    "n.pop()\n",
    "n.sort()"
   ]
  },
  {
   "cell_type": "markdown",
   "id": "f1f3c4f3",
   "metadata": {},
   "source": [
    "# Queation"
   ]
  },
  {
   "cell_type": "code",
   "execution_count": 329,
   "id": "e4b86d1f",
   "metadata": {},
   "outputs": [],
   "source": [
    "l = [3,4,5,6,7,[23,456,67,8,78,78],[345,56,87,8,98,9],(234,6657,6),{\"key1\":\"python\", 234:[23,45,656]}]"
   ]
  },
  {
   "cell_type": "code",
   "execution_count": 330,
   "id": "c86d2d8a",
   "metadata": {},
   "outputs": [
    {
     "data": {
      "text/plain": [
       "[3,\n",
       " 4,\n",
       " 5,\n",
       " 6,\n",
       " 7,\n",
       " [23, 456, 67, 8, 78, 78],\n",
       " [345, 56, 87, 8, 98, 9],\n",
       " (234, 6657, 6),\n",
       " {'key1': 'python', 234: [23, 45, 656]}]"
      ]
     },
     "execution_count": 330,
     "metadata": {},
     "output_type": "execute_result"
    }
   ],
   "source": [
    "l"
   ]
  },
  {
   "cell_type": "code",
   "execution_count": 344,
   "id": "6401b97f",
   "metadata": {},
   "outputs": [
    {
     "data": {
      "text/plain": [
       "[{'key1': 'python', 234: [23, 45, 656]},\n",
       " (234, 6657, 6),\n",
       " [345, 56, 87, 8, 98, 9],\n",
       " [23, 456, 67, 8, 78, 78],\n",
       " 7,\n",
       " 6,\n",
       " 5,\n",
       " 4,\n",
       " 3]"
      ]
     },
     "execution_count": 344,
     "metadata": {},
     "output_type": "execute_result"
    }
   ],
   "source": [
    "# reverse list\n",
    "l[::-1]"
   ]
  },
  {
   "cell_type": "code",
   "execution_count": 340,
   "id": "e6f60322",
   "metadata": {},
   "outputs": [
    {
     "data": {
      "text/plain": [
       "234"
      ]
     },
     "execution_count": 340,
     "metadata": {},
     "output_type": "execute_result"
    }
   ],
   "source": [
    "#try to acess 234 out of this list\n",
    "l[7][0]"
   ]
  },
  {
   "cell_type": "code",
   "execution_count": 343,
   "id": "2454d40b",
   "metadata": {},
   "outputs": [
    {
     "data": {
      "text/plain": [
       "456"
      ]
     },
     "execution_count": 343,
     "metadata": {},
     "output_type": "execute_result"
    }
   ],
   "source": [
    "# try to access 456\n",
    "l[5][1]"
   ]
  },
  {
   "cell_type": "code",
   "execution_count": null,
   "id": "beba1b69",
   "metadata": {},
   "outputs": [],
   "source": []
  }
 ],
 "metadata": {
  "kernelspec": {
   "display_name": "Python 3 (ipykernel)",
   "language": "python",
   "name": "python3"
  },
  "language_info": {
   "codemirror_mode": {
    "name": "ipython",
    "version": 3
   },
   "file_extension": ".py",
   "mimetype": "text/x-python",
   "name": "python",
   "nbconvert_exporter": "python",
   "pygments_lexer": "ipython3",
   "version": "3.9.12"
  }
 },
 "nbformat": 4,
 "nbformat_minor": 5
}
