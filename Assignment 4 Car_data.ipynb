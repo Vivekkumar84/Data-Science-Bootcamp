{
 "cells": [
  {
   "cell_type": "markdown",
   "id": "f3b8129f",
   "metadata": {},
   "source": [
    "# Car data set "
   ]
  },
  {
   "cell_type": "markdown",
   "id": "31f95e6e",
   "metadata": {},
   "source": [
    "# Prblem Statemet:\n",
    "The goal of this project is to analyze and predict car performance and fuel efficiency metrics based on a variety of features related to the vehicle's specifications. "
   ]
  },
  {
   "cell_type": "code",
   "execution_count": 31,
   "id": "2cb83bfd",
   "metadata": {},
   "outputs": [],
   "source": [
    "import pandas as pd\n",
    "import numpy as np \n",
    "import matplotlib.pyplot as plt\n",
    "import seaborn as sns\n",
    "from sklearn.model_selection import train_test_split\n",
    "from sklearn.tree import DecisionTreeRegressor"
   ]
  },
  {
   "cell_type": "code",
   "execution_count": 32,
   "id": "47084b54",
   "metadata": {},
   "outputs": [],
   "source": [
    "df1 = pd.read_csv(\"B:\\\\7th sem\\\\Bootcamp\\\\ML\\\\car_data.csv\")"
   ]
  },
  {
   "cell_type": "code",
   "execution_count": 33,
   "id": "76fdadd0",
   "metadata": {},
   "outputs": [
    {
     "data": {
      "text/html": [
       "<div>\n",
       "<style scoped>\n",
       "    .dataframe tbody tr th:only-of-type {\n",
       "        vertical-align: middle;\n",
       "    }\n",
       "\n",
       "    .dataframe tbody tr th {\n",
       "        vertical-align: top;\n",
       "    }\n",
       "\n",
       "    .dataframe thead th {\n",
       "        text-align: right;\n",
       "    }\n",
       "</style>\n",
       "<table border=\"1\" class=\"dataframe\">\n",
       "  <thead>\n",
       "    <tr style=\"text-align: right;\">\n",
       "      <th></th>\n",
       "      <th>city_mpg</th>\n",
       "      <th>class</th>\n",
       "      <th>combination_mpg</th>\n",
       "      <th>cylinders</th>\n",
       "      <th>displacement</th>\n",
       "      <th>drive</th>\n",
       "      <th>fuel_type</th>\n",
       "      <th>highway_mpg</th>\n",
       "      <th>make</th>\n",
       "      <th>model</th>\n",
       "      <th>transmission</th>\n",
       "      <th>year</th>\n",
       "    </tr>\n",
       "  </thead>\n",
       "  <tbody>\n",
       "    <tr>\n",
       "      <th>0</th>\n",
       "      <td>25</td>\n",
       "      <td>midsize car</td>\n",
       "      <td>29</td>\n",
       "      <td>4.0</td>\n",
       "      <td>2.5</td>\n",
       "      <td>fwd</td>\n",
       "      <td>gas</td>\n",
       "      <td>36</td>\n",
       "      <td>mazda</td>\n",
       "      <td>6</td>\n",
       "      <td>m</td>\n",
       "      <td>2014</td>\n",
       "    </tr>\n",
       "    <tr>\n",
       "      <th>1</th>\n",
       "      <td>26</td>\n",
       "      <td>midsize car</td>\n",
       "      <td>30</td>\n",
       "      <td>4.0</td>\n",
       "      <td>2.5</td>\n",
       "      <td>fwd</td>\n",
       "      <td>gas</td>\n",
       "      <td>37</td>\n",
       "      <td>mazda</td>\n",
       "      <td>6</td>\n",
       "      <td>a</td>\n",
       "      <td>2014</td>\n",
       "    </tr>\n",
       "    <tr>\n",
       "      <th>2</th>\n",
       "      <td>25</td>\n",
       "      <td>small sport utility vehicle</td>\n",
       "      <td>27</td>\n",
       "      <td>4.0</td>\n",
       "      <td>2.5</td>\n",
       "      <td>fwd</td>\n",
       "      <td>gas</td>\n",
       "      <td>31</td>\n",
       "      <td>mazda</td>\n",
       "      <td>cx-5 2wd</td>\n",
       "      <td>a</td>\n",
       "      <td>2014</td>\n",
       "    </tr>\n",
       "    <tr>\n",
       "      <th>3</th>\n",
       "      <td>26</td>\n",
       "      <td>small sport utility vehicle</td>\n",
       "      <td>29</td>\n",
       "      <td>4.0</td>\n",
       "      <td>2.0</td>\n",
       "      <td>fwd</td>\n",
       "      <td>gas</td>\n",
       "      <td>34</td>\n",
       "      <td>mazda</td>\n",
       "      <td>cx-5 2wd</td>\n",
       "      <td>m</td>\n",
       "      <td>2014</td>\n",
       "    </tr>\n",
       "    <tr>\n",
       "      <th>4</th>\n",
       "      <td>26</td>\n",
       "      <td>small sport utility vehicle</td>\n",
       "      <td>28</td>\n",
       "      <td>4.0</td>\n",
       "      <td>2.0</td>\n",
       "      <td>fwd</td>\n",
       "      <td>gas</td>\n",
       "      <td>32</td>\n",
       "      <td>mazda</td>\n",
       "      <td>cx-5 2wd</td>\n",
       "      <td>a</td>\n",
       "      <td>2014</td>\n",
       "    </tr>\n",
       "  </tbody>\n",
       "</table>\n",
       "</div>"
      ],
      "text/plain": [
       "   city_mpg                        class  combination_mpg  cylinders  \\\n",
       "0        25                  midsize car               29        4.0   \n",
       "1        26                  midsize car               30        4.0   \n",
       "2        25  small sport utility vehicle               27        4.0   \n",
       "3        26  small sport utility vehicle               29        4.0   \n",
       "4        26  small sport utility vehicle               28        4.0   \n",
       "\n",
       "   displacement drive fuel_type  highway_mpg   make     model transmission  \\\n",
       "0           2.5   fwd       gas           36  mazda         6            m   \n",
       "1           2.5   fwd       gas           37  mazda         6            a   \n",
       "2           2.5   fwd       gas           31  mazda  cx-5 2wd            a   \n",
       "3           2.0   fwd       gas           34  mazda  cx-5 2wd            m   \n",
       "4           2.0   fwd       gas           32  mazda  cx-5 2wd            a   \n",
       "\n",
       "   year  \n",
       "0  2014  \n",
       "1  2014  \n",
       "2  2014  \n",
       "3  2014  \n",
       "4  2014  "
      ]
     },
     "execution_count": 33,
     "metadata": {},
     "output_type": "execute_result"
    }
   ],
   "source": [
    "df1.head()"
   ]
  },
  {
   "cell_type": "code",
   "execution_count": 34,
   "id": "231dbdc7",
   "metadata": {},
   "outputs": [
    {
     "data": {
      "text/html": [
       "<div>\n",
       "<style scoped>\n",
       "    .dataframe tbody tr th:only-of-type {\n",
       "        vertical-align: middle;\n",
       "    }\n",
       "\n",
       "    .dataframe tbody tr th {\n",
       "        vertical-align: top;\n",
       "    }\n",
       "\n",
       "    .dataframe thead th {\n",
       "        text-align: right;\n",
       "    }\n",
       "</style>\n",
       "<table border=\"1\" class=\"dataframe\">\n",
       "  <thead>\n",
       "    <tr style=\"text-align: right;\">\n",
       "      <th></th>\n",
       "      <th>city_mpg</th>\n",
       "      <th>class</th>\n",
       "      <th>combination_mpg</th>\n",
       "      <th>cylinders</th>\n",
       "      <th>displacement</th>\n",
       "      <th>drive</th>\n",
       "      <th>fuel_type</th>\n",
       "      <th>highway_mpg</th>\n",
       "      <th>make</th>\n",
       "      <th>model</th>\n",
       "      <th>transmission</th>\n",
       "      <th>year</th>\n",
       "    </tr>\n",
       "  </thead>\n",
       "  <tbody>\n",
       "    <tr>\n",
       "      <th>545</th>\n",
       "      <td>23</td>\n",
       "      <td>compact car</td>\n",
       "      <td>27</td>\n",
       "      <td>4.0</td>\n",
       "      <td>2.0</td>\n",
       "      <td>awd</td>\n",
       "      <td>gas</td>\n",
       "      <td>33</td>\n",
       "      <td>bmw</td>\n",
       "      <td>430i xdrive gran coupe</td>\n",
       "      <td>a</td>\n",
       "      <td>2024</td>\n",
       "    </tr>\n",
       "    <tr>\n",
       "      <th>546</th>\n",
       "      <td>21</td>\n",
       "      <td>midsize car</td>\n",
       "      <td>24</td>\n",
       "      <td>6.0</td>\n",
       "      <td>3.0</td>\n",
       "      <td>rwd</td>\n",
       "      <td>gas</td>\n",
       "      <td>29</td>\n",
       "      <td>bmw</td>\n",
       "      <td>840i gran coupe</td>\n",
       "      <td>a</td>\n",
       "      <td>2024</td>\n",
       "    </tr>\n",
       "    <tr>\n",
       "      <th>547</th>\n",
       "      <td>21</td>\n",
       "      <td>midsize car</td>\n",
       "      <td>24</td>\n",
       "      <td>6.0</td>\n",
       "      <td>3.0</td>\n",
       "      <td>awd</td>\n",
       "      <td>gas</td>\n",
       "      <td>29</td>\n",
       "      <td>bmw</td>\n",
       "      <td>840i xdrive gran coupe</td>\n",
       "      <td>a</td>\n",
       "      <td>2024</td>\n",
       "    </tr>\n",
       "    <tr>\n",
       "      <th>548</th>\n",
       "      <td>17</td>\n",
       "      <td>midsize car</td>\n",
       "      <td>19</td>\n",
       "      <td>8.0</td>\n",
       "      <td>4.4</td>\n",
       "      <td>awd</td>\n",
       "      <td>gas</td>\n",
       "      <td>24</td>\n",
       "      <td>bmw</td>\n",
       "      <td>m850i xdrive gran coupe</td>\n",
       "      <td>a</td>\n",
       "      <td>2024</td>\n",
       "    </tr>\n",
       "    <tr>\n",
       "      <th>549</th>\n",
       "      <td>17</td>\n",
       "      <td>midsize car</td>\n",
       "      <td>19</td>\n",
       "      <td>8.0</td>\n",
       "      <td>4.4</td>\n",
       "      <td>awd</td>\n",
       "      <td>gas</td>\n",
       "      <td>24</td>\n",
       "      <td>bmw</td>\n",
       "      <td>alpina b8 gran coupe</td>\n",
       "      <td>a</td>\n",
       "      <td>2024</td>\n",
       "    </tr>\n",
       "  </tbody>\n",
       "</table>\n",
       "</div>"
      ],
      "text/plain": [
       "     city_mpg        class  combination_mpg  cylinders  displacement drive  \\\n",
       "545        23  compact car               27        4.0           2.0   awd   \n",
       "546        21  midsize car               24        6.0           3.0   rwd   \n",
       "547        21  midsize car               24        6.0           3.0   awd   \n",
       "548        17  midsize car               19        8.0           4.4   awd   \n",
       "549        17  midsize car               19        8.0           4.4   awd   \n",
       "\n",
       "    fuel_type  highway_mpg make                    model transmission  year  \n",
       "545       gas           33  bmw   430i xdrive gran coupe            a  2024  \n",
       "546       gas           29  bmw          840i gran coupe            a  2024  \n",
       "547       gas           29  bmw   840i xdrive gran coupe            a  2024  \n",
       "548       gas           24  bmw  m850i xdrive gran coupe            a  2024  \n",
       "549       gas           24  bmw     alpina b8 gran coupe            a  2024  "
      ]
     },
     "execution_count": 34,
     "metadata": {},
     "output_type": "execute_result"
    }
   ],
   "source": [
    "df1.tail()"
   ]
  },
  {
   "cell_type": "code",
   "execution_count": 35,
   "id": "bd0e45f1",
   "metadata": {},
   "outputs": [
    {
     "data": {
      "text/plain": [
       "(550, 12)"
      ]
     },
     "execution_count": 35,
     "metadata": {},
     "output_type": "execute_result"
    }
   ],
   "source": [
    "df1.shape"
   ]
  },
  {
   "cell_type": "code",
   "execution_count": 36,
   "id": "56d8ee14",
   "metadata": {},
   "outputs": [
    {
     "data": {
      "text/plain": [
       "Index(['city_mpg', 'class', 'combination_mpg', 'cylinders', 'displacement',\n",
       "       'drive', 'fuel_type', 'highway_mpg', 'make', 'model', 'transmission',\n",
       "       'year'],\n",
       "      dtype='object')"
      ]
     },
     "execution_count": 36,
     "metadata": {},
     "output_type": "execute_result"
    }
   ],
   "source": [
    "df1.columns"
   ]
  },
  {
   "cell_type": "code",
   "execution_count": 37,
   "id": "f12ebc57",
   "metadata": {},
   "outputs": [
    {
     "name": "stdout",
     "output_type": "stream",
     "text": [
      "<class 'pandas.core.frame.DataFrame'>\n",
      "RangeIndex: 550 entries, 0 to 549\n",
      "Data columns (total 12 columns):\n",
      " #   Column           Non-Null Count  Dtype  \n",
      "---  ------           --------------  -----  \n",
      " 0   city_mpg         550 non-null    int64  \n",
      " 1   class            550 non-null    object \n",
      " 2   combination_mpg  550 non-null    int64  \n",
      " 3   cylinders        548 non-null    float64\n",
      " 4   displacement     548 non-null    float64\n",
      " 5   drive            550 non-null    object \n",
      " 6   fuel_type        550 non-null    object \n",
      " 7   highway_mpg      550 non-null    int64  \n",
      " 8   make             550 non-null    object \n",
      " 9   model            550 non-null    object \n",
      " 10  transmission     550 non-null    object \n",
      " 11  year             550 non-null    int64  \n",
      "dtypes: float64(2), int64(4), object(6)\n",
      "memory usage: 51.7+ KB\n"
     ]
    }
   ],
   "source": [
    "df1.info()"
   ]
  },
  {
   "cell_type": "code",
   "execution_count": 39,
   "id": "f0d7fa88",
   "metadata": {},
   "outputs": [
    {
     "data": {
      "text/plain": [
       "city_mpg           0\n",
       "class              0\n",
       "combination_mpg    0\n",
       "cylinders          2\n",
       "displacement       2\n",
       "drive              0\n",
       "fuel_type          0\n",
       "highway_mpg        0\n",
       "make               0\n",
       "model              0\n",
       "transmission       0\n",
       "year               0\n",
       "dtype: int64"
      ]
     },
     "execution_count": 39,
     "metadata": {},
     "output_type": "execute_result"
    }
   ],
   "source": [
    "df1.isnull().sum()"
   ]
  },
  {
   "cell_type": "code",
   "execution_count": 40,
   "id": "ed0bc83a",
   "metadata": {},
   "outputs": [
    {
     "data": {
      "text/html": [
       "<div>\n",
       "<style scoped>\n",
       "    .dataframe tbody tr th:only-of-type {\n",
       "        vertical-align: middle;\n",
       "    }\n",
       "\n",
       "    .dataframe tbody tr th {\n",
       "        vertical-align: top;\n",
       "    }\n",
       "\n",
       "    .dataframe thead th {\n",
       "        text-align: right;\n",
       "    }\n",
       "</style>\n",
       "<table border=\"1\" class=\"dataframe\">\n",
       "  <thead>\n",
       "    <tr style=\"text-align: right;\">\n",
       "      <th></th>\n",
       "      <th>city_mpg</th>\n",
       "      <th>combination_mpg</th>\n",
       "      <th>cylinders</th>\n",
       "      <th>displacement</th>\n",
       "      <th>highway_mpg</th>\n",
       "      <th>year</th>\n",
       "    </tr>\n",
       "  </thead>\n",
       "  <tbody>\n",
       "    <tr>\n",
       "      <th>count</th>\n",
       "      <td>550.000000</td>\n",
       "      <td>550.000000</td>\n",
       "      <td>548.000000</td>\n",
       "      <td>548.000000</td>\n",
       "      <td>550.000000</td>\n",
       "      <td>550.000000</td>\n",
       "    </tr>\n",
       "    <tr>\n",
       "      <th>mean</th>\n",
       "      <td>21.460000</td>\n",
       "      <td>24.069091</td>\n",
       "      <td>5.315693</td>\n",
       "      <td>2.931752</td>\n",
       "      <td>28.609091</td>\n",
       "      <td>2019.000000</td>\n",
       "    </tr>\n",
       "    <tr>\n",
       "      <th>std</th>\n",
       "      <td>8.147392</td>\n",
       "      <td>7.478369</td>\n",
       "      <td>1.759999</td>\n",
       "      <td>1.248419</td>\n",
       "      <td>6.832228</td>\n",
       "      <td>3.165156</td>\n",
       "    </tr>\n",
       "    <tr>\n",
       "      <th>min</th>\n",
       "      <td>11.000000</td>\n",
       "      <td>14.000000</td>\n",
       "      <td>3.000000</td>\n",
       "      <td>1.200000</td>\n",
       "      <td>18.000000</td>\n",
       "      <td>2014.000000</td>\n",
       "    </tr>\n",
       "    <tr>\n",
       "      <th>25%</th>\n",
       "      <td>17.000000</td>\n",
       "      <td>20.000000</td>\n",
       "      <td>4.000000</td>\n",
       "      <td>2.000000</td>\n",
       "      <td>24.000000</td>\n",
       "      <td>2016.000000</td>\n",
       "    </tr>\n",
       "    <tr>\n",
       "      <th>50%</th>\n",
       "      <td>20.000000</td>\n",
       "      <td>23.000000</td>\n",
       "      <td>4.000000</td>\n",
       "      <td>2.500000</td>\n",
       "      <td>28.000000</td>\n",
       "      <td>2019.000000</td>\n",
       "    </tr>\n",
       "    <tr>\n",
       "      <th>75%</th>\n",
       "      <td>24.000000</td>\n",
       "      <td>27.000000</td>\n",
       "      <td>6.000000</td>\n",
       "      <td>3.500000</td>\n",
       "      <td>32.000000</td>\n",
       "      <td>2022.000000</td>\n",
       "    </tr>\n",
       "    <tr>\n",
       "      <th>max</th>\n",
       "      <td>126.000000</td>\n",
       "      <td>112.000000</td>\n",
       "      <td>12.000000</td>\n",
       "      <td>6.800000</td>\n",
       "      <td>102.000000</td>\n",
       "      <td>2024.000000</td>\n",
       "    </tr>\n",
       "  </tbody>\n",
       "</table>\n",
       "</div>"
      ],
      "text/plain": [
       "         city_mpg  combination_mpg   cylinders  displacement  highway_mpg  \\\n",
       "count  550.000000       550.000000  548.000000    548.000000   550.000000   \n",
       "mean    21.460000        24.069091    5.315693      2.931752    28.609091   \n",
       "std      8.147392         7.478369    1.759999      1.248419     6.832228   \n",
       "min     11.000000        14.000000    3.000000      1.200000    18.000000   \n",
       "25%     17.000000        20.000000    4.000000      2.000000    24.000000   \n",
       "50%     20.000000        23.000000    4.000000      2.500000    28.000000   \n",
       "75%     24.000000        27.000000    6.000000      3.500000    32.000000   \n",
       "max    126.000000       112.000000   12.000000      6.800000   102.000000   \n",
       "\n",
       "              year  \n",
       "count   550.000000  \n",
       "mean   2019.000000  \n",
       "std       3.165156  \n",
       "min    2014.000000  \n",
       "25%    2016.000000  \n",
       "50%    2019.000000  \n",
       "75%    2022.000000  \n",
       "max    2024.000000  "
      ]
     },
     "execution_count": 40,
     "metadata": {},
     "output_type": "execute_result"
    }
   ],
   "source": [
    "df1.describe()"
   ]
  },
  {
   "cell_type": "code",
   "execution_count": 41,
   "id": "d90fe090",
   "metadata": {},
   "outputs": [
    {
     "data": {
      "text/html": [
       "<div>\n",
       "<style scoped>\n",
       "    .dataframe tbody tr th:only-of-type {\n",
       "        vertical-align: middle;\n",
       "    }\n",
       "\n",
       "    .dataframe tbody tr th {\n",
       "        vertical-align: top;\n",
       "    }\n",
       "\n",
       "    .dataframe thead th {\n",
       "        text-align: right;\n",
       "    }\n",
       "</style>\n",
       "<table border=\"1\" class=\"dataframe\">\n",
       "  <thead>\n",
       "    <tr style=\"text-align: right;\">\n",
       "      <th></th>\n",
       "      <th>city_mpg</th>\n",
       "      <th>combination_mpg</th>\n",
       "      <th>cylinders</th>\n",
       "      <th>displacement</th>\n",
       "      <th>highway_mpg</th>\n",
       "      <th>year</th>\n",
       "    </tr>\n",
       "  </thead>\n",
       "  <tbody>\n",
       "    <tr>\n",
       "      <th>city_mpg</th>\n",
       "      <td>1.000000</td>\n",
       "      <td>0.991671</td>\n",
       "      <td>-0.724249</td>\n",
       "      <td>-0.738363</td>\n",
       "      <td>0.944696</td>\n",
       "      <td>0.100795</td>\n",
       "    </tr>\n",
       "    <tr>\n",
       "      <th>combination_mpg</th>\n",
       "      <td>0.991671</td>\n",
       "      <td>1.000000</td>\n",
       "      <td>-0.750464</td>\n",
       "      <td>-0.763750</td>\n",
       "      <td>0.974735</td>\n",
       "      <td>0.105272</td>\n",
       "    </tr>\n",
       "    <tr>\n",
       "      <th>cylinders</th>\n",
       "      <td>-0.724249</td>\n",
       "      <td>-0.750464</td>\n",
       "      <td>1.000000</td>\n",
       "      <td>0.940534</td>\n",
       "      <td>-0.715528</td>\n",
       "      <td>-0.203856</td>\n",
       "    </tr>\n",
       "    <tr>\n",
       "      <th>displacement</th>\n",
       "      <td>-0.738363</td>\n",
       "      <td>-0.763750</td>\n",
       "      <td>0.940534</td>\n",
       "      <td>1.000000</td>\n",
       "      <td>-0.726599</td>\n",
       "      <td>-0.239668</td>\n",
       "    </tr>\n",
       "    <tr>\n",
       "      <th>highway_mpg</th>\n",
       "      <td>0.944696</td>\n",
       "      <td>0.974735</td>\n",
       "      <td>-0.715528</td>\n",
       "      <td>-0.726599</td>\n",
       "      <td>1.000000</td>\n",
       "      <td>0.118513</td>\n",
       "    </tr>\n",
       "    <tr>\n",
       "      <th>year</th>\n",
       "      <td>0.100795</td>\n",
       "      <td>0.105272</td>\n",
       "      <td>-0.203856</td>\n",
       "      <td>-0.239668</td>\n",
       "      <td>0.118513</td>\n",
       "      <td>1.000000</td>\n",
       "    </tr>\n",
       "  </tbody>\n",
       "</table>\n",
       "</div>"
      ],
      "text/plain": [
       "                 city_mpg  combination_mpg  cylinders  displacement  \\\n",
       "city_mpg         1.000000         0.991671  -0.724249     -0.738363   \n",
       "combination_mpg  0.991671         1.000000  -0.750464     -0.763750   \n",
       "cylinders       -0.724249        -0.750464   1.000000      0.940534   \n",
       "displacement    -0.738363        -0.763750   0.940534      1.000000   \n",
       "highway_mpg      0.944696         0.974735  -0.715528     -0.726599   \n",
       "year             0.100795         0.105272  -0.203856     -0.239668   \n",
       "\n",
       "                 highway_mpg      year  \n",
       "city_mpg            0.944696  0.100795  \n",
       "combination_mpg     0.974735  0.105272  \n",
       "cylinders          -0.715528 -0.203856  \n",
       "displacement       -0.726599 -0.239668  \n",
       "highway_mpg         1.000000  0.118513  \n",
       "year                0.118513  1.000000  "
      ]
     },
     "execution_count": 41,
     "metadata": {},
     "output_type": "execute_result"
    }
   ],
   "source": [
    "df1.corr()"
   ]
  },
  {
   "cell_type": "code",
   "execution_count": 42,
   "id": "62706da9",
   "metadata": {},
   "outputs": [
    {
     "data": {
      "text/plain": [
       "<AxesSubplot:>"
      ]
     },
     "execution_count": 42,
     "metadata": {},
     "output_type": "execute_result"
    },
    {
     "data": {
      "image/png": "[encoded data removed]",
      "text/plain": [
       "<Figure size 432x288 with 2 Axes>"
      ]
     },
     "metadata": {
      "needs_background": "light"
     },
     "output_type": "display_data"
    }
   ],
   "source": [
    "sns.heatmap(df1.corr())"
   ]
  },
  {
   "cell_type": "code",
   "execution_count": 43,
   "id": "f1a1480e",
   "metadata": {},
   "outputs": [],
   "source": [
    "from sklearn.preprocessing import LabelEncoder"
   ]
  },
  {
   "cell_type": "code",
   "execution_count": 44,
   "id": "5a525c08",
   "metadata": {},
   "outputs": [],
   "source": [
    "label_encoder = LabelEncoder()"
   ]
  },
  {
   "cell_type": "code",
   "execution_count": 45,
   "id": "ca54ddac",
   "metadata": {},
   "outputs": [],
   "source": [
    "cate_columns = ['class', 'drive', 'fuel_type', 'make', 'model', 'transmission']\n",
    "for col in cate_columns:\n",
    "    df1[col] = label_encoder.fit_transform(df1[col])"
   ]
  },
  {
   "cell_type": "code",
   "execution_count": 46,
   "id": "7c944702",
   "metadata": {},
   "outputs": [],
   "source": [
    "df1.dropna(inplace=True)"
   ]
  },
  {
   "cell_type": "code",
   "execution_count": 47,
   "id": "91c4ed8d",
   "metadata": {},
   "outputs": [
    {
     "data": {
      "text/html": [
       "<div>\n",
       "<style scoped>\n",
       "    .dataframe tbody tr th:only-of-type {\n",
       "        vertical-align: middle;\n",
       "    }\n",
       "\n",
       "    .dataframe tbody tr th {\n",
       "        vertical-align: top;\n",
       "    }\n",
       "\n",
       "    .dataframe thead th {\n",
       "        text-align: right;\n",
       "    }\n",
       "</style>\n",
       "<table border=\"1\" class=\"dataframe\">\n",
       "  <thead>\n",
       "    <tr style=\"text-align: right;\">\n",
       "      <th></th>\n",
       "      <th>city_mpg</th>\n",
       "      <th>class</th>\n",
       "      <th>combination_mpg</th>\n",
       "      <th>cylinders</th>\n",
       "      <th>displacement</th>\n",
       "      <th>drive</th>\n",
       "      <th>fuel_type</th>\n",
       "      <th>highway_mpg</th>\n",
       "      <th>make</th>\n",
       "      <th>model</th>\n",
       "      <th>transmission</th>\n",
       "      <th>year</th>\n",
       "    </tr>\n",
       "  </thead>\n",
       "  <tbody>\n",
       "    <tr>\n",
       "      <th>0</th>\n",
       "      <td>25</td>\n",
       "      <td>2</td>\n",
       "      <td>29</td>\n",
       "      <td>4.0</td>\n",
       "      <td>2.5</td>\n",
       "      <td>2</td>\n",
       "      <td>2</td>\n",
       "      <td>36</td>\n",
       "      <td>19</td>\n",
       "      <td>15</td>\n",
       "      <td>1</td>\n",
       "      <td>2014</td>\n",
       "    </tr>\n",
       "    <tr>\n",
       "      <th>1</th>\n",
       "      <td>26</td>\n",
       "      <td>2</td>\n",
       "      <td>30</td>\n",
       "      <td>4.0</td>\n",
       "      <td>2.5</td>\n",
       "      <td>2</td>\n",
       "      <td>2</td>\n",
       "      <td>37</td>\n",
       "      <td>19</td>\n",
       "      <td>15</td>\n",
       "      <td>0</td>\n",
       "      <td>2014</td>\n",
       "    </tr>\n",
       "    <tr>\n",
       "      <th>2</th>\n",
       "      <td>25</td>\n",
       "      <td>7</td>\n",
       "      <td>27</td>\n",
       "      <td>4.0</td>\n",
       "      <td>2.5</td>\n",
       "      <td>2</td>\n",
       "      <td>2</td>\n",
       "      <td>31</td>\n",
       "      <td>19</td>\n",
       "      <td>74</td>\n",
       "      <td>0</td>\n",
       "      <td>2014</td>\n",
       "    </tr>\n",
       "    <tr>\n",
       "      <th>3</th>\n",
       "      <td>26</td>\n",
       "      <td>7</td>\n",
       "      <td>29</td>\n",
       "      <td>4.0</td>\n",
       "      <td>2.0</td>\n",
       "      <td>2</td>\n",
       "      <td>2</td>\n",
       "      <td>34</td>\n",
       "      <td>19</td>\n",
       "      <td>74</td>\n",
       "      <td>1</td>\n",
       "      <td>2014</td>\n",
       "    </tr>\n",
       "    <tr>\n",
       "      <th>4</th>\n",
       "      <td>26</td>\n",
       "      <td>7</td>\n",
       "      <td>28</td>\n",
       "      <td>4.0</td>\n",
       "      <td>2.0</td>\n",
       "      <td>2</td>\n",
       "      <td>2</td>\n",
       "      <td>32</td>\n",
       "      <td>19</td>\n",
       "      <td>74</td>\n",
       "      <td>0</td>\n",
       "      <td>2014</td>\n",
       "    </tr>\n",
       "  </tbody>\n",
       "</table>\n",
       "</div>"
      ],
      "text/plain": [
       "   city_mpg  class  combination_mpg  cylinders  displacement  drive  \\\n",
       "0        25      2               29        4.0           2.5      2   \n",
       "1        26      2               30        4.0           2.5      2   \n",
       "2        25      7               27        4.0           2.5      2   \n",
       "3        26      7               29        4.0           2.0      2   \n",
       "4        26      7               28        4.0           2.0      2   \n",
       "\n",
       "   fuel_type  highway_mpg  make  model  transmission  year  \n",
       "0          2           36    19     15             1  2014  \n",
       "1          2           37    19     15             0  2014  \n",
       "2          2           31    19     74             0  2014  \n",
       "3          2           34    19     74             1  2014  \n",
       "4          2           32    19     74             0  2014  "
      ]
     },
     "execution_count": 47,
     "metadata": {},
     "output_type": "execute_result"
    }
   ],
   "source": [
    "df1.head()"
   ]
  },
  {
   "cell_type": "code",
   "execution_count": 48,
   "id": "5064f437",
   "metadata": {},
   "outputs": [
    {
     "name": "stdout",
     "output_type": "stream",
     "text": [
      "<class 'pandas.core.frame.DataFrame'>\n",
      "Int64Index: 548 entries, 0 to 549\n",
      "Data columns (total 12 columns):\n",
      " #   Column           Non-Null Count  Dtype  \n",
      "---  ------           --------------  -----  \n",
      " 0   city_mpg         548 non-null    int64  \n",
      " 1   class            548 non-null    int32  \n",
      " 2   combination_mpg  548 non-null    int64  \n",
      " 3   cylinders        548 non-null    float64\n",
      " 4   displacement     548 non-null    float64\n",
      " 5   drive            548 non-null    int32  \n",
      " 6   fuel_type        548 non-null    int32  \n",
      " 7   highway_mpg      548 non-null    int64  \n",
      " 8   make             548 non-null    int32  \n",
      " 9   model            548 non-null    int32  \n",
      " 10  transmission     548 non-null    int32  \n",
      " 11  year             548 non-null    int64  \n",
      "dtypes: float64(2), int32(6), int64(4)\n",
      "memory usage: 42.8 KB\n"
     ]
    }
   ],
   "source": [
    "df1.info()"
   ]
  },
  {
   "cell_type": "code",
   "execution_count": 55,
   "id": "92797f34",
   "metadata": {},
   "outputs": [
    {
     "data": {
      "text/plain": [
       "city_mpg           0\n",
       "class              0\n",
       "combination_mpg    0\n",
       "cylinders          0\n",
       "displacement       0\n",
       "drive              0\n",
       "fuel_type          0\n",
       "highway_mpg        0\n",
       "make               0\n",
       "model              0\n",
       "transmission       0\n",
       "year               0\n",
       "dtype: int64"
      ]
     },
     "execution_count": 55,
     "metadata": {},
     "output_type": "execute_result"
    }
   ],
   "source": [
    "df1.isnull().sum()"
   ]
  },
  {
   "cell_type": "code",
   "execution_count": 56,
   "id": "6405d3f9",
   "metadata": {},
   "outputs": [],
   "source": [
    "x = df1.drop(['city_mpg'], axis = 1)\n",
    "y = df1['city_mpg']"
   ]
  },
  {
   "cell_type": "code",
   "execution_count": 57,
   "id": "0ea1b6fe",
   "metadata": {},
   "outputs": [],
   "source": [
    "x_train, x_test, y_train, y_test = train_test_split(x, y, test_size = 0.2, random_state=20)"
   ]
  },
  {
   "cell_type": "code",
   "execution_count": 58,
   "id": "b5f2a8c3",
   "metadata": {},
   "outputs": [
    {
     "data": {
      "text/plain": [
       "DecisionTreeRegressor()"
      ]
     },
     "execution_count": 58,
     "metadata": {},
     "output_type": "execute_result"
    }
   ],
   "source": [
    "model = DecisionTreeRegressor()\n",
    "model.fit(x_train, y_train)"
   ]
  },
  {
   "cell_type": "code",
   "execution_count": 63,
   "id": "beefb387",
   "metadata": {},
   "outputs": [
    {
     "name": "stdout",
     "output_type": "stream",
     "text": [
      "Accuracy:0.9739590183339033\n"
     ]
    }
   ],
   "source": [
    "y_pred = model.predict(x_test)\n",
    "print(f\"Accuracy:{model.score(x_test, y_test)}\")"
   ]
  },
  {
   "cell_type": "code",
   "execution_count": null,
   "id": "7c6bb652",
   "metadata": {},
   "outputs": [],
   "source": []
  }
 ],
 "metadata": {
  "kernelspec": {
   "display_name": "Python 3 (ipykernel)",
   "language": "python",
   "name": "python3"
  },
  "language_info": {
   "codemirror_mode": {
    "name": "ipython",
    "version": 3
   },
   "file_extension": ".py",
   "mimetype": "text/x-python",
   "name": "python",
   "nbconvert_exporter": "python",
   "pygments_lexer": "ipython3",
   "version": "3.9.12"
  }
 },
 "nbformat": 4,
 "nbformat_minor": 5
}
