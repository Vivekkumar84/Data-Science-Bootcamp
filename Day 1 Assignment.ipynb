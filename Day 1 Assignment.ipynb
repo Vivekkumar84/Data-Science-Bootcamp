{
 "cells": [
  {
   "cell_type": "markdown",
   "id": "e94d984c",
   "metadata": {},
   "source": [
    "# <center> Assignment 1</center>"
   ]
  },
  {
   "cell_type": "markdown",
   "id": "d3cb01bb",
   "metadata": {},
   "source": [
    " Q1 . Convert a string to a zigzag pattern on a given number of rows and then read it row by row.\n",
    "   - Input: s = \"PAYPALISHIRING\", numRows = 3"
   ]
  },
  {
   "cell_type": "code",
   "execution_count": 1,
   "id": "41aaee20",
   "metadata": {},
   "outputs": [
    {
     "name": "stdout",
     "output_type": "stream",
     "text": [
      "PAHNAPLSIIGYIR\n"
     ]
    }
   ],
   "source": [
    "def convert(s: str, numRows: int) -> str:\n",
    "    if numRows == 1 or numRows >= len(s):\n",
    "        return \n",
    "    \n",
    "    rows = [''] * numRows\n",
    "    current_row = 0\n",
    "    going_down = False\n",
    "    \n",
    "    for char in s:\n",
    "        rows[current_row] += char\n",
    "        \n",
    "        if current_row == 0 or current_row == numRows - 1:\n",
    "            going_down = not going_down\n",
    "        \n",
    "        current_row += 1 if going_down else -1\n",
    "    \n",
    "    return ''.join(rows)\n",
    "\n",
    "s = \"PAYPALISHIRING\"\n",
    "numRows = 3\n",
    "result = convert(s, numRows)\n",
    "print(result) \n"
   ]
  },
  {
   "cell_type": "markdown",
   "id": "1de78316",
   "metadata": {},
   "source": [
    "Q2 Implement a method to perform basic string compression using the counts of repeated characters.\n",
    "   - Input: \"aabcccccaaa\""
   ]
  },
  {
   "cell_type": "code",
   "execution_count": 2,
   "id": "e3e6936d",
   "metadata": {},
   "outputs": [
    {
     "name": "stdout",
     "output_type": "stream",
     "text": [
      "a2b1c5a3\n"
     ]
    }
   ],
   "source": [
    "def compress_string(s: str) -> str:\n",
    "    compressed = \"\"\n",
    "    count_consecutive = 1\n",
    "    \n",
    "    for i in range(1, len(s)):\n",
    "        if s[i] == s[i - 1]:\n",
    "            count_consecutive += 1\n",
    "        else:\n",
    "            compressed += s[i - 1] + str(count_consecutive)\n",
    "            count_consecutive = 1 \n",
    "    \n",
    "    compressed += s[-1] + str(count_consecutive)\n",
    "    return compressed if len(compressed) < len(s) else s\n",
    "\n",
    "input_string = \"aabcccccaaa\"\n",
    "result = compress_string(input_string)\n",
    "print(result)"
   ]
  },
  {
   "cell_type": "markdown",
   "id": "7638e123",
   "metadata": {},
   "source": [
    "Q3 Write a function that generates all possible permutations of a given string.\n",
    "   - Input: \"ABC\""
   ]
  },
  {
   "cell_type": "code",
   "execution_count": 4,
   "id": "c07d9020",
   "metadata": {},
   "outputs": [
    {
     "name": "stdout",
     "output_type": "stream",
     "text": [
      "ABC\n",
      "ACB\n",
      "BAC\n",
      "BCA\n",
      "CAB\n",
      "CBA\n"
     ]
    }
   ],
   "source": [
    "from itertools import permutations\n",
    "\n",
    "def generate_permutations(s):\n",
    "    perms = permutations(s)\n",
    "    for p in perms:\n",
    "        print(''.join(p))\n",
    "\n",
    "# usage\n",
    "generate_permutations(\"ABC\")\n"
   ]
  },
  {
   "cell_type": "markdown",
   "id": "792d6e40",
   "metadata": {},
   "source": [
    "Q4 Given an array of strings, group anagrams together.\n",
    "   - Input: [\"eat\", \"tea\", \"tan\", \"ate\", \"nat\", \"bat\"]"
   ]
  },
  {
   "cell_type": "code",
   "execution_count": 5,
   "id": "cdcb22e7",
   "metadata": {},
   "outputs": [
    {
     "name": "stdout",
     "output_type": "stream",
     "text": [
      "[['eat', 'tea', 'ate'], ['tan', 'nat'], ['bat']]\n"
     ]
    }
   ],
   "source": [
    "from collections import defaultdict\n",
    "\n",
    "def group_anagrams(words):\n",
    "    anagrams = defaultdict(list)\n",
    "    \n",
    "    for word in words:\n",
    "        sorted_word = ''.join(sorted(word))\n",
    "        anagrams[sorted_word].append(word)\n",
    "    \n",
    "    return list(anagrams.values())\n",
    "\n",
    "\n",
    "words = [\"eat\", \"tea\", \"tan\", \"ate\", \"nat\", \"bat\"]\n",
    "result = group_anagrams(words)\n",
    "print(result)\n"
   ]
  },
  {
   "cell_type": "markdown",
   "id": "5d612adf",
   "metadata": {},
   "source": [
    " Q5 Write a function to multiply two large numbers represented as strings.\n",
    "   - Input: num1 = \"123\", num2 = \"456\""
   ]
  },
  {
   "cell_type": "code",
   "execution_count": 6,
   "id": "3d00ecd9",
   "metadata": {},
   "outputs": [
    {
     "name": "stdout",
     "output_type": "stream",
     "text": [
      "56088\n"
     ]
    }
   ],
   "source": [
    "def multiply_strings(num1, num2):\n",
    "    \n",
    "    result = str(int(num1) * int(num2))\n",
    "    return result\n",
    "\n",
    "num1 = \"123\"\n",
    "num2 = \"456\"\n",
    "print(multiply_strings(num1, num2))\n"
   ]
  },
  {
   "cell_type": "markdown",
   "id": "da4f3012",
   "metadata": {},
   "source": [
    "Q6 Given two strings, check if one is a rotation of the other using only one call to a string method.\n",
    "   - Input: str1 = \"ABCD\", str2 = \"DABC\""
   ]
  },
  {
   "cell_type": "code",
   "execution_count": 7,
   "id": "adedb8e9",
   "metadata": {},
   "outputs": [
    {
     "name": "stdout",
     "output_type": "stream",
     "text": [
      "True\n"
     ]
    }
   ],
   "source": [
    "def is_rotation(str1, str2):\n",
    "    if len(str1) != len(str2):\n",
    "        return False\n",
    "    return str2 in (str1 + str1)\n",
    "\n",
    "str1 = \"ABCD\"\n",
    "str2 = \"DABC\"\n",
    "print(is_rotation(str1, str2))"
   ]
  },
  {
   "cell_type": "markdown",
   "id": "69d8be55",
   "metadata": {},
   "source": [
    "Q7 Given a string containing just the characters (, ), {, }, [, and ], determine if the input string is valid.\n",
    "   - Input: \"()[]{}\""
   ]
  },
  {
   "cell_type": "code",
   "execution_count": 8,
   "id": "803d0f12",
   "metadata": {},
   "outputs": [
    {
     "name": "stdout",
     "output_type": "stream",
     "text": [
      "True\n"
     ]
    }
   ],
   "source": [
    "def is_valid(s):\n",
    "    stack = []\n",
    "    mapping = {')': '(', '}': '{', ']': '['}\n",
    "    \n",
    "    for char in s:\n",
    "        if char in mapping: \n",
    "            top_element = stack.pop() if stack else None\n",
    "            if top_element != mapping[char]:\n",
    "                return False\n",
    "        else:  \n",
    "            stack.append(char)\n",
    "    \n",
    "    return not stack\n",
    "\n",
    "\n",
    "s = \"()[]{}\"\n",
    "print(is_valid(s))"
   ]
  },
  {
   "cell_type": "markdown",
   "id": "f538751d",
   "metadata": {},
   "source": [
    "Q8 Implement the function atoi which converts a string to an integer.\n",
    "   - Input: \"4193 with words\""
   ]
  },
  {
   "cell_type": "code",
   "execution_count": 9,
   "id": "9078f339",
   "metadata": {},
   "outputs": [
    {
     "name": "stdout",
     "output_type": "stream",
     "text": [
      "4193\n"
     ]
    }
   ],
   "source": [
    "def my_atoi(s):\n",
    "    s = s.strip()\n",
    "    if not s:\n",
    "        return 0\n",
    "    \n",
    "    sign = 1\n",
    "    if s[0] == '-':\n",
    "        sign = -1\n",
    "        s = s[1:]\n",
    "    elif s[0] == '+':\n",
    "        s = s[1:]\n",
    "    \n",
    "    result = 0\n",
    "    for char in s:\n",
    "        if char.isdigit():\n",
    "            result = result * 10 + int(char)\n",
    "        else:\n",
    "            break\n",
    "    \n",
    "    return sign * result\n",
    "\n",
    "s = \"4193 with words\"\n",
    "print(my_atoi(s))"
   ]
  },
  {
   "cell_type": "markdown",
   "id": "89572a25",
   "metadata": {},
   "source": [
    "Q9 Write a function that generates the nth term of the \"count and say\" sequence.\n",
    "   - Input: n = 4"
   ]
  },
  {
   "cell_type": "code",
   "execution_count": 10,
   "id": "2cf204b5",
   "metadata": {},
   "outputs": [
    {
     "name": "stdout",
     "output_type": "stream",
     "text": [
      "1211\n"
     ]
    }
   ],
   "source": [
    "def count_and_say(n):\n",
    "    result = \"1\"\n",
    "    for _ in range(n - 1):\n",
    "        next_term = \"\"\n",
    "        count, prev_char = 1, result[0]\n",
    "        for i in range(1, len(result)):\n",
    "            if result[i] == prev_char:\n",
    "                count += 1\n",
    "            else:\n",
    "                next_term += str(count) + prev_char\n",
    "                count, prev_char = 1, result[i]\n",
    "        next_term += str(count) + prev_char\n",
    "        result = next_term\n",
    "    return result\n",
    "\n",
    "n = 4\n",
    "print(count_and_say(n))\n"
   ]
  },
  {
   "cell_type": "markdown",
   "id": "755e52c7",
   "metadata": {},
   "source": [
    "Q10 Given two strings s and t, return the minimum window in s which will contain all the characters in t.\n",
    "   - Input: s = \"ADOBECODEBANC\", t = \"ABC\""
   ]
  },
  {
   "cell_type": "code",
   "execution_count": 11,
   "id": "1482488b",
   "metadata": {},
   "outputs": [
    {
     "name": "stdout",
     "output_type": "stream",
     "text": [
      "BANC\n"
     ]
    }
   ],
   "source": [
    "from collections import Counter\n",
    "\n",
    "def min_window(s, t):\n",
    "    if not s or not t:\n",
    "        return \"\"\n",
    "    \n",
    "    t_count = Counter(t)\n",
    "    s_count = Counter()\n",
    "    left, right = 0, 0\n",
    "    min_len = float(\"inf\")\n",
    "    min_window = \"\"\n",
    "    \n",
    "    while right < len(s):\n",
    "        s_count[s[right]] += 1\n",
    "        right += 1\n",
    "        \n",
    "        while all(s_count[c] >= t_count[c] for c in t_count):\n",
    "            if right - left < min_len:\n",
    "                min_len = right - left\n",
    "                min_window = s[left:right]\n",
    "            \n",
    "            s_count[s[left]] -= 1\n",
    "            left += 1\n",
    "    \n",
    "    return min_window\n",
    "\n",
    "# Example usage\n",
    "s = \"ADOBECODEBANC\"\n",
    "t = \"ABC\"\n",
    "print(min_window(s, t))\n"
   ]
  },
  {
   "cell_type": "markdown",
   "id": "dfb002e0",
   "metadata": {},
   "source": [
    "Q11 Given a string, find the length of the longest substring without repeating characters.\n",
    "   - Input: \"abcabcbb\""
   ]
  },
  {
   "cell_type": "code",
   "execution_count": 12,
   "id": "5d2fa069",
   "metadata": {},
   "outputs": [
    {
     "name": "stdout",
     "output_type": "stream",
     "text": [
      "3\n"
     ]
    }
   ],
   "source": [
    "def length_of_longest_substring(s):\n",
    "    char_set = set()\n",
    "    left, max_len = 0, 0\n",
    "    \n",
    "    for right in range(len(s)):\n",
    "        while s[right] in char_set:\n",
    "            char_set.remove(s[left])\n",
    "            left += 1\n",
    "        char_set.add(s[right])\n",
    "        max_len = max(max_len, right - left + 1)\n",
    "    \n",
    "    return max_len\n",
    "\n",
    "s = \"abcabcbb\"\n",
    "print(length_of_longest_substring(s))\n"
   ]
  },
  {
   "cell_type": "markdown",
   "id": "2151e059",
   "metadata": {},
   "source": [
    "Q12 Given three strings s1, s2, and s3, determine if s3 is formed by the interleaving of s1 and s2.\n",
    "   - Input: s1 = \"aabcc\", s2 = \"dbbca\", s3 = \"aadbbcbcac\""
   ]
  },
  {
   "cell_type": "code",
   "execution_count": 13,
   "id": "56d2fa71",
   "metadata": {},
   "outputs": [
    {
     "name": "stdout",
     "output_type": "stream",
     "text": [
      "True\n"
     ]
    }
   ],
   "source": [
    "def is_interleave(s1, s2, s3):\n",
    "    if len(s1) + len(s2) != len(s3):\n",
    "        return False\n",
    "    \n",
    "    dp = [[False] * (len(s2) + 1) for _ in range(len(s1) + 1)]\n",
    "    dp[0][0] = True  \n",
    "\n",
    "    for i in range(len(s1) + 1):\n",
    "        for j in range(len(s2) + 1):\n",
    "            if i > 0 and s1[i - 1] == s3[i + j - 1]:\n",
    "                dp[i][j] = dp[i][j] or dp[i - 1][j]\n",
    "            if j > 0 and s2[j - 1] == s3[i + j - 1]:\n",
    "                dp[i][j] = dp[i][j] or dp[i][j - 1]\n",
    "    \n",
    "    return dp[len(s1)][len(s2)]\n",
    "\n",
    "s1 = \"aabcc\"\n",
    "s2 = \"dbbca\"\n",
    "s3 = \"aadbbcbcac\"\n",
    "print(is_interleave(s1, s2, s3))"
   ]
  },
  {
   "cell_type": "markdown",
   "id": "dfef9641",
   "metadata": {},
   "source": [
    "Q13 Write a function to convert a Roman numeral to an integer.\n",
    "   - Input: \"MCMXCIV\" "
   ]
  },
  {
   "cell_type": "code",
   "execution_count": 14,
   "id": "2da10d5f",
   "metadata": {},
   "outputs": [
    {
     "name": "stdout",
     "output_type": "stream",
     "text": [
      "1994\n"
     ]
    }
   ],
   "source": [
    "def roman_to_int(s):\n",
    "    roman = {'I': 1, 'V': 5, 'X': 10, 'L': 50, 'C': 100, 'D': 500, 'M': 1000}\n",
    "    total = 0\n",
    "    \n",
    "    for i in range(len(s)):\n",
    "        if i > 0 and roman[s[i]] > roman[s[i - 1]]:\n",
    "            total += roman[s[i]] - 2 * roman[s[i - 1]]\n",
    "        else:\n",
    "            total += roman[s[i]]\n",
    "    \n",
    "    return total\n",
    "\n",
    "s = \"MCMXCIV\"\n",
    "print(roman_to_int(s))"
   ]
  },
  {
   "cell_type": "markdown",
   "id": "78ef4271",
   "metadata": {},
   "source": [
    "Q14 Find the longest common substring between two strings.\n",
    "   - Input: str1 = \"ABABC\", str2 = \"BABCA\""
   ]
  },
  {
   "cell_type": "code",
   "execution_count": 15,
   "id": "0688678f",
   "metadata": {},
   "outputs": [
    {
     "name": "stdout",
     "output_type": "stream",
     "text": [
      "BABC\n"
     ]
    }
   ],
   "source": [
    "def longest_common_substring(str1, str2):\n",
    "    m, n = len(str1), len(str2)\n",
    "    max_len = 0\n",
    "    ending_index = 0\n",
    "    dp = [[0] * (n + 1) for _ in range(m + 1)]\n",
    "    \n",
    "    for i in range(1, m + 1):\n",
    "        for j in range(1, n + 1):\n",
    "            if str1[i - 1] == str2[j - 1]:\n",
    "                dp[i][j] = dp[i - 1][j - 1] + 1\n",
    "                if dp[i][j] > max_len:\n",
    "                    max_len = dp[i][j]\n",
    "                    ending_index = i\n",
    "    \n",
    "    return str1[ending_index - max_len:ending_index]\n",
    "\n",
    "\n",
    "str1 = \"ABABC\"\n",
    "str2 = \"BABCA\"\n",
    "print(longest_common_substring(str1, str2))"
   ]
  },
  {
   "cell_type": "markdown",
   "id": "d88a4d6e",
   "metadata": {},
   "source": [
    "Q15 Given a string s and a dictionary of words, check if s can be segmented into a space-separated sequence of one or more dictionary words.\n",
    "   - Input: s = \"leetcode\", wordDict = [\"leet\", \"code\"]"
   ]
  },
  {
   "cell_type": "code",
   "execution_count": 16,
   "id": "0db12cda",
   "metadata": {},
   "outputs": [
    {
     "name": "stdout",
     "output_type": "stream",
     "text": [
      "True\n"
     ]
    }
   ],
   "source": [
    "def word_break(s, wordDict):\n",
    "    word_set = set(wordDict)\n",
    "    dp = [False] * (len(s) + 1)\n",
    "    dp[0] = True\n",
    "    \n",
    "    for i in range(1, len(s) + 1):\n",
    "        for j in range(i):\n",
    "            if dp[j] and s[j:i] in word_set:\n",
    "                dp[i] = True\n",
    "                break\n",
    "    \n",
    "    return dp[len(s)]\n",
    "\n",
    "s = \"leetcode\"\n",
    "wordDict = [\"leet\", \"code\"]\n",
    "print(word_break(s, wordDict))"
   ]
  },
  {
   "cell_type": "markdown",
   "id": "2b1297ae",
   "metadata": {},
   "source": [
    "Q16 Remove the minimum number of invalid parentheses to make the input string valid. Return all possible results.\n",
    "   - Input: \"()())()\""
   ]
  },
  {
   "cell_type": "code",
   "execution_count": 17,
   "id": "aec09057",
   "metadata": {},
   "outputs": [
    {
     "name": "stdout",
     "output_type": "stream",
     "text": [
      "['(())()', '()()()']\n"
     ]
    }
   ],
   "source": [
    "def remove_invalid_parentheses(s):\n",
    "    def is_valid(expr):\n",
    "        count = 0\n",
    "        for char in expr:\n",
    "            if char == '(':\n",
    "                count += 1\n",
    "            elif char == ')':\n",
    "                count -= 1\n",
    "            if count < 0:\n",
    "                return False\n",
    "        return count == 0\n",
    "\n",
    "    from collections import deque\n",
    "    visited = set([s])\n",
    "    queue = deque([s])\n",
    "    found = False\n",
    "    result = []\n",
    "\n",
    "    while queue:\n",
    "        expr = queue.popleft()\n",
    "        if is_valid(expr):\n",
    "            result.append(expr)\n",
    "            found = True\n",
    "        if found:\n",
    "            continue\n",
    "        for i in range(len(expr)):\n",
    "            if expr[i] not in '()':\n",
    "                continue\n",
    "            new_expr = expr[:i] + expr[i+1:]\n",
    "            if new_expr not in visited:\n",
    "                visited.add(new_expr)\n",
    "                queue.append(new_expr)\n",
    "    \n",
    "    return result\n",
    "\n",
    "s = \"()())()\"\n",
    "print(remove_invalid_parentheses(s))"
   ]
  },
  {
   "cell_type": "code",
   "execution_count": null,
   "id": "6945ac4f",
   "metadata": {},
   "outputs": [],
   "source": []
  }
 ],
 "metadata": {
  "kernelspec": {
   "display_name": "Python 3 (ipykernel)",
   "language": "python",
   "name": "python3"
  },
  "language_info": {
   "codemirror_mode": {
    "name": "ipython",
    "version": 3
   },
   "file_extension": ".py",
   "mimetype": "text/x-python",
   "name": "python",
   "nbconvert_exporter": "python",
   "pygments_lexer": "ipython3",
   "version": "3.9.12"
  }
 },
 "nbformat": 4,
 "nbformat_minor": 5
}
